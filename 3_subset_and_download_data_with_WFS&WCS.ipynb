{
 "cells": [
  {
   "cell_type": "markdown",
   "metadata": {},
   "source": [
    "<img src=\"./img/Logo.png\" align=\"right\" width=\"50%\"></img>\n",
    "# MissionAtlantic GeoNode Workshop\n",
    "### Tier 2: How to use OGC webservices offered by the MissionAtlantic GeoNode in your data analysis"
   ]
  },
  {
   "cell_type": "markdown",
   "metadata": {},
   "source": [
    "## 3. Subset & download data using OGC Web Feature and Coverage Services (WFS/WCS)"
   ]
  },
  {
   "cell_type": "markdown",
   "metadata": {},
   "source": [
    "The OWSLib library is a python library that makes accessing data and metadata through OGC services possible. The library abstracts all of the traditional HTTP API calls into programmatic function calls. We will be using this library throughout the tutorial to interact with the MissionAtlantic GeoNode OGC services.\n",
    "\n",
    "The library is available from GitHub @  https://github.com/geopython/OWSLib"
   ]
  },
  {
   "cell_type": "code",
   "execution_count": 31,
   "metadata": {},
   "outputs": [],
   "source": [
    "from owslib.wfs import WebFeatureService\n",
    "from owslib.wcs import WebCoverageService\n",
    "from matplotlib import pyplot as plt"
   ]
  },
  {
   "cell_type": "markdown",
   "metadata": {},
   "source": [
    "### 3.1 Get vector data with WFS"
   ]
  },
  {
   "cell_type": "markdown",
   "metadata": {},
   "source": [
    "#### Create a WebFeatureService (WFS) object\n",
    "Note that we use version 1.1.0 as in OWSLib this version has support for [OGC Filter Encoding](https://www.ogc.org/standards/filter)"
   ]
  },
  {
   "cell_type": "code",
   "execution_count": 32,
   "metadata": {},
   "outputs": [],
   "source": [
    "wfs = WebFeatureService('https://geonode.missionatlantic.eu/geoserver/ows', version = '1.1.0')"
   ]
  },
  {
   "cell_type": "markdown",
   "metadata": {},
   "source": [
    "#### Find out what the WFS has to offer. Service metadata:"
   ]
  },
  {
   "cell_type": "code",
   "execution_count": 33,
   "metadata": {},
   "outputs": [
    {
     "name": "stdout",
     "output_type": "stream",
     "text": [
      "WFS\n",
      "1.1.0\n",
      "Mission Atlantic GeoNode WFS service\n",
      "This is the WFS service of the Mission Atlantic GeoNode\n"
     ]
    }
   ],
   "source": [
    "print(wfs.identification.type)\n",
    "print(wfs.identification.version)\n",
    "print(wfs.identification.title)\n",
    "print(wfs.identification.abstract)"
   ]
  },
  {
   "cell_type": "markdown",
   "metadata": {},
   "source": [
    "#### See available methods"
   ]
  },
  {
   "cell_type": "code",
   "execution_count": 34,
   "metadata": {},
   "outputs": [
    {
     "data": {
      "text/plain": [
       "['GetCapabilities',\n",
       " 'DescribeFeatureType',\n",
       " 'GetFeature',\n",
       " 'GetGmlObject',\n",
       " 'LockFeature',\n",
       " 'GetFeatureWithLock',\n",
       " 'Transaction']"
      ]
     },
     "execution_count": 34,
     "metadata": {},
     "output_type": "execute_result"
    }
   ],
   "source": [
    "[operation.name for operation in wfs.operations]"
   ]
  },
  {
   "cell_type": "markdown",
   "metadata": {},
   "source": [
    "#### Get available formats"
   ]
  },
  {
   "cell_type": "code",
   "execution_count": 35,
   "metadata": {},
   "outputs": [
    {
     "data": {
      "text/plain": [
       "{'resultType': {'values': ['results', 'hits']},\n",
       " 'outputFormat': {'values': ['text/xml; subtype=gml/3.1.1',\n",
       "   'GML2',\n",
       "   'KML',\n",
       "   'SHAPE-ZIP',\n",
       "   'application/gml+xml; version=3.2',\n",
       "   'application/json',\n",
       "   'application/vnd.google-earth.kml xml',\n",
       "   'application/vnd.google-earth.kml+xml',\n",
       "   'application/x-gpkg',\n",
       "   'csv',\n",
       "   'excel',\n",
       "   'excel2007',\n",
       "   'geopackage',\n",
       "   'geopkg',\n",
       "   'gml3',\n",
       "   'gml32',\n",
       "   'gpkg',\n",
       "   'json',\n",
       "   'text/csv',\n",
       "   'text/javascript',\n",
       "   'text/xml; subtype=gml/2.1.2',\n",
       "   'text/xml; subtype=gml/3.2']}}"
      ]
     },
     "execution_count": 35,
     "metadata": {},
     "output_type": "execute_result"
    }
   ],
   "source": [
    "wfs.getOperationByName('GetFeature').parameters"
   ]
  },
  {
   "cell_type": "markdown",
   "metadata": {},
   "source": [
    "#### Find out what vector datasets (FeatureTypes) are available\n",
    "Note that only vector datasets that are uploaded to the GeoNode and are publicly available are shown"
   ]
  },
  {
   "cell_type": "code",
   "execution_count": 36,
   "metadata": {},
   "outputs": [
    {
     "data": {
      "text/plain": [
       "['geonode:Wind_Farms_EMODnet']"
      ]
     },
     "execution_count": 36,
     "metadata": {},
     "output_type": "execute_result"
    }
   ],
   "source": [
    "list(wfs.contents)"
   ]
  },
  {
   "cell_type": "code",
   "execution_count": 37,
   "metadata": {},
   "outputs": [],
   "source": [
    "# Select the desired dataset among the list returned above\n",
    "dataset = 'geonode:Wind_Farms_EMODnet'"
   ]
  },
  {
   "cell_type": "markdown",
   "metadata": {},
   "source": [
    "#### Get the FeatureType metadata:"
   ]
  },
  {
   "cell_type": "code",
   "execution_count": 38,
   "metadata": {},
   "outputs": [
    {
     "name": "stdout",
     "output_type": "stream",
     "text": [
      "EMODnet, Human Activities, Energy, Wind Farms\n",
      "The database on offshore wind farms in the EU was created in 2014 by CETMAR for the European Marine Observation and Data Network (EMODnet). It is the result of the aggregation and harmonization of datasets provided by several sources. It is updated every year and is available for viewing and download on EMODnet Human Activities web portal (https://emodnet.ec.europa.eu/en/human-activities). The database contains points and/or (where available) polygons representing offshore wind farms in the following countries: Belgium, Denmark, Estonia, Finland, France, Germany, Greece, Ireland, Italy, Latvia, Lithuania, Netherlands, Norway, Poland, Portugal, Spain, Sweden and United Kingdom. Each point has the following attributes (where available): Name, Nº of turbines, Status (Approved, Planned, Dismantled, Construction, Production, Test site), Country, Year, Power (MW), Distance to coast (metres) and Area (square kilometres). The distance to coast (EEA coastline shapefile) has been calculated using the UTM WGS84 Zone projected coordinate system where data fall in.\n"
     ]
    }
   ],
   "source": [
    "print(wfs.contents[dataset].title)\n",
    "print(wfs.contents[dataset].abstract)"
   ]
  },
  {
   "cell_type": "markdown",
   "metadata": {},
   "source": [
    "#### Get the FeatureType’s schema via `DescribeFeatureType`.\n",
    "The dictionary returned is compatible with a [Fiona schema object](https://fiona.readthedocs.io/en/latest/fiona.html#fiona.collection.Collection.schema)."
   ]
  },
  {
   "cell_type": "code",
   "execution_count": 39,
   "metadata": {},
   "outputs": [
    {
     "data": {
      "text/plain": [
       "{'properties': {'fid': 'int',\n",
       "  'country': 'string',\n",
       "  'n_turbines': 'long',\n",
       "  'power_mw': 'double',\n",
       "  'status': 'string',\n",
       "  'year': 'string',\n",
       "  'dist_coast': 'double',\n",
       "  'area_sqkm': 'double',\n",
       "  'notes': 'string'},\n",
       " 'required': ['fid'],\n",
       " 'geometry': '3D MultiPolygon',\n",
       " 'geometry_column': 'the_geom'}"
      ]
     },
     "execution_count": 39,
     "metadata": {},
     "output_type": "execute_result"
    }
   ],
   "source": [
    "wfs.get_schema(dataset)"
   ]
  },
  {
   "cell_type": "markdown",
   "metadata": {},
   "source": [
    "#### Subset data with a bounding box"
   ]
  },
  {
   "cell_type": "code",
   "execution_count": 40,
   "metadata": {
    "scrolled": true
   },
   "outputs": [
    {
     "data": {
      "text/html": [
       "<div>\n",
       "<style scoped>\n",
       "    .dataframe tbody tr th:only-of-type {\n",
       "        vertical-align: middle;\n",
       "    }\n",
       "\n",
       "    .dataframe tbody tr th {\n",
       "        vertical-align: top;\n",
       "    }\n",
       "\n",
       "    .dataframe thead th {\n",
       "        text-align: right;\n",
       "    }\n",
       "</style>\n",
       "<table border=\"1\" class=\"dataframe\">\n",
       "  <thead>\n",
       "    <tr style=\"text-align: right;\">\n",
       "      <th></th>\n",
       "      <th>id</th>\n",
       "      <th>fid</th>\n",
       "      <th>country</th>\n",
       "      <th>n_turbines</th>\n",
       "      <th>power_mw</th>\n",
       "      <th>status</th>\n",
       "      <th>year</th>\n",
       "      <th>dist_coast</th>\n",
       "      <th>area_sqkm</th>\n",
       "      <th>notes</th>\n",
       "      <th>geometry</th>\n",
       "    </tr>\n",
       "  </thead>\n",
       "  <tbody>\n",
       "    <tr>\n",
       "      <th>0</th>\n",
       "      <td>Wind_Farms_EMODnet.1</td>\n",
       "      <td>1</td>\n",
       "      <td>Sweden</td>\n",
       "      <td>108.0</td>\n",
       "      <td>864.0</td>\n",
       "      <td>Planned</td>\n",
       "      <td></td>\n",
       "      <td>24805.731113</td>\n",
       "      <td>59.826131</td>\n",
       "      <td></td>\n",
       "      <td>MULTIPOLYGON (((12.03532 56.65295, 12.06134 56...</td>\n",
       "    </tr>\n",
       "    <tr>\n",
       "      <th>1</th>\n",
       "      <td>Wind_Farms_EMODnet.2</td>\n",
       "      <td>2</td>\n",
       "      <td>Sweden</td>\n",
       "      <td>5.0</td>\n",
       "      <td>11.5</td>\n",
       "      <td>Production</td>\n",
       "      <td></td>\n",
       "      <td>0.000000</td>\n",
       "      <td>0.193854</td>\n",
       "      <td></td>\n",
       "      <td>MULTIPOLYGON (((12.46710 56.89015, 12.47244 56...</td>\n",
       "    </tr>\n",
       "    <tr>\n",
       "      <th>2</th>\n",
       "      <td>Wind_Farms_EMODnet.3</td>\n",
       "      <td>3</td>\n",
       "      <td>Sweden</td>\n",
       "      <td>50.0</td>\n",
       "      <td>282.0</td>\n",
       "      <td>Approved</td>\n",
       "      <td></td>\n",
       "      <td>6381.649369</td>\n",
       "      <td>22.111037</td>\n",
       "      <td></td>\n",
       "      <td>MULTIPOLYGON (((12.33361 56.86036, 12.34738 56...</td>\n",
       "    </tr>\n",
       "    <tr>\n",
       "      <th>3</th>\n",
       "      <td>Wind_Farms_EMODnet.4</td>\n",
       "      <td>4</td>\n",
       "      <td>United Kingdom</td>\n",
       "      <td>10.0</td>\n",
       "      <td>10.0</td>\n",
       "      <td>Planned</td>\n",
       "      <td></td>\n",
       "      <td>45.484159</td>\n",
       "      <td>4.756627</td>\n",
       "      <td></td>\n",
       "      <td>MULTIPOLYGON (((-6.48391 58.43840, -6.45466 58...</td>\n",
       "    </tr>\n",
       "    <tr>\n",
       "      <th>4</th>\n",
       "      <td>Wind_Farms_EMODnet.5</td>\n",
       "      <td>5</td>\n",
       "      <td>United Kingdom</td>\n",
       "      <td>10.0</td>\n",
       "      <td>10.0</td>\n",
       "      <td>Approved</td>\n",
       "      <td></td>\n",
       "      <td>1122.942248</td>\n",
       "      <td>27.611537</td>\n",
       "      <td></td>\n",
       "      <td>MULTIPOLYGON (((-6.52572 55.65146, -6.55948 55...</td>\n",
       "    </tr>\n",
       "    <tr>\n",
       "      <th>...</th>\n",
       "      <td>...</td>\n",
       "      <td>...</td>\n",
       "      <td>...</td>\n",
       "      <td>...</td>\n",
       "      <td>...</td>\n",
       "      <td>...</td>\n",
       "      <td>...</td>\n",
       "      <td>...</td>\n",
       "      <td>...</td>\n",
       "      <td>...</td>\n",
       "      <td>...</td>\n",
       "    </tr>\n",
       "    <tr>\n",
       "      <th>526</th>\n",
       "      <td>Wind_Farms_EMODnet.527</td>\n",
       "      <td>527</td>\n",
       "      <td>Spain</td>\n",
       "      <td>NaN</td>\n",
       "      <td>NaN</td>\n",
       "      <td>Planned</td>\n",
       "      <td></td>\n",
       "      <td>6352.036015</td>\n",
       "      <td>164.014429</td>\n",
       "      <td></td>\n",
       "      <td>MULTIPOLYGON (((-15.22104 27.87453, -15.22323 ...</td>\n",
       "    </tr>\n",
       "    <tr>\n",
       "      <th>527</th>\n",
       "      <td>Wind_Farms_EMODnet.528</td>\n",
       "      <td>528</td>\n",
       "      <td>Estonia</td>\n",
       "      <td>NaN</td>\n",
       "      <td>NaN</td>\n",
       "      <td>Planned</td>\n",
       "      <td></td>\n",
       "      <td>10936.264024</td>\n",
       "      <td>475.437637</td>\n",
       "      <td></td>\n",
       "      <td>MULTIPOLYGON (((22.87573 57.88582, 22.83318 57...</td>\n",
       "    </tr>\n",
       "    <tr>\n",
       "      <th>528</th>\n",
       "      <td>Wind_Farms_EMODnet.529</td>\n",
       "      <td>529</td>\n",
       "      <td>Estonia</td>\n",
       "      <td>NaN</td>\n",
       "      <td>NaN</td>\n",
       "      <td>Planned</td>\n",
       "      <td></td>\n",
       "      <td>9903.634178</td>\n",
       "      <td>1217.896092</td>\n",
       "      <td></td>\n",
       "      <td>MULTIPOLYGON (((21.69848 57.84691, 21.65391 57...</td>\n",
       "    </tr>\n",
       "    <tr>\n",
       "      <th>529</th>\n",
       "      <td>Wind_Farms_EMODnet.530</td>\n",
       "      <td>530</td>\n",
       "      <td>Estonia</td>\n",
       "      <td>NaN</td>\n",
       "      <td>NaN</td>\n",
       "      <td>Planned</td>\n",
       "      <td></td>\n",
       "      <td>53078.632060</td>\n",
       "      <td>87.964217</td>\n",
       "      <td></td>\n",
       "      <td>MULTIPOLYGON (((20.79879 58.23678, 20.89771 58...</td>\n",
       "    </tr>\n",
       "    <tr>\n",
       "      <th>530</th>\n",
       "      <td>Wind_Farms_EMODnet.531</td>\n",
       "      <td>531</td>\n",
       "      <td>Portugal</td>\n",
       "      <td>3.0</td>\n",
       "      <td>25.0</td>\n",
       "      <td>Production</td>\n",
       "      <td>2020</td>\n",
       "      <td>13145.922104</td>\n",
       "      <td>52.028647</td>\n",
       "      <td></td>\n",
       "      <td>MULTIPOLYGON (((-9.12599 41.82498, -9.03547 41...</td>\n",
       "    </tr>\n",
       "  </tbody>\n",
       "</table>\n",
       "<p>531 rows × 11 columns</p>\n",
       "</div>"
      ],
      "text/plain": [
       "                         id  fid         country  n_turbines  power_mw  \\\n",
       "0      Wind_Farms_EMODnet.1    1          Sweden       108.0     864.0   \n",
       "1      Wind_Farms_EMODnet.2    2          Sweden         5.0      11.5   \n",
       "2      Wind_Farms_EMODnet.3    3          Sweden        50.0     282.0   \n",
       "3      Wind_Farms_EMODnet.4    4  United Kingdom        10.0      10.0   \n",
       "4      Wind_Farms_EMODnet.5    5  United Kingdom        10.0      10.0   \n",
       "..                      ...  ...             ...         ...       ...   \n",
       "526  Wind_Farms_EMODnet.527  527           Spain         NaN       NaN   \n",
       "527  Wind_Farms_EMODnet.528  528         Estonia         NaN       NaN   \n",
       "528  Wind_Farms_EMODnet.529  529         Estonia         NaN       NaN   \n",
       "529  Wind_Farms_EMODnet.530  530         Estonia         NaN       NaN   \n",
       "530  Wind_Farms_EMODnet.531  531        Portugal         3.0      25.0   \n",
       "\n",
       "         status  year    dist_coast    area_sqkm notes  \\\n",
       "0       Planned        24805.731113    59.826131         \n",
       "1    Production            0.000000     0.193854         \n",
       "2      Approved         6381.649369    22.111037         \n",
       "3       Planned           45.484159     4.756627         \n",
       "4      Approved         1122.942248    27.611537         \n",
       "..          ...   ...           ...          ...   ...   \n",
       "526     Planned         6352.036015   164.014429         \n",
       "527     Planned        10936.264024   475.437637         \n",
       "528     Planned         9903.634178  1217.896092         \n",
       "529     Planned        53078.632060    87.964217         \n",
       "530  Production  2020  13145.922104    52.028647         \n",
       "\n",
       "                                              geometry  \n",
       "0    MULTIPOLYGON (((12.03532 56.65295, 12.06134 56...  \n",
       "1    MULTIPOLYGON (((12.46710 56.89015, 12.47244 56...  \n",
       "2    MULTIPOLYGON (((12.33361 56.86036, 12.34738 56...  \n",
       "3    MULTIPOLYGON (((-6.48391 58.43840, -6.45466 58...  \n",
       "4    MULTIPOLYGON (((-6.52572 55.65146, -6.55948 55...  \n",
       "..                                                 ...  \n",
       "526  MULTIPOLYGON (((-15.22104 27.87453, -15.22323 ...  \n",
       "527  MULTIPOLYGON (((22.87573 57.88582, 22.83318 57...  \n",
       "528  MULTIPOLYGON (((21.69848 57.84691, 21.65391 57...  \n",
       "529  MULTIPOLYGON (((20.79879 58.23678, 20.89771 58...  \n",
       "530  MULTIPOLYGON (((-9.12599 41.82498, -9.03547 41...  \n",
       "\n",
       "[531 rows x 11 columns]"
      ]
     },
     "execution_count": 40,
     "metadata": {},
     "output_type": "execute_result"
    }
   ],
   "source": [
    "# Subset data with a bounding box\n",
    "response = wfs.getfeature(typename=dataset,\n",
    "                          bbox=(-16.58967836,27.73302514,24.73778662,65.47042103), #subset to the Study area ( based on bbox params)\n",
    "                          outputFormat='application/json')\n",
    "\n",
    "# Write it to a GeoJson file\n",
    "with open(f'data/{dataset.replace(\":\",\"_\")}.json', 'wb') as outfile:\n",
    "    outfile.write(response.read())\n",
    "response.close()\n",
    "\n",
    "# Read the GeoJson file using GeoPandas\n",
    "import geopandas as gpd\n",
    "gdf = gpd.read_file(f'data/{dataset.replace(\":\",\"_\")}.json')\n",
    "gdf"
   ]
  },
  {
   "cell_type": "code",
   "execution_count": 41,
   "metadata": {},
   "outputs": [
    {
     "name": "stderr",
     "output_type": "stream",
     "text": [
      "C:\\Users\\matteo.mikos\\AppData\\Local\\Temp\\ipykernel_5624\\2282531803.py:2: FutureWarning: The geopandas.dataset module is deprecated and will be removed in GeoPandas 1.0. You can get the original 'naturalearth_lowres' data from https://www.naturalearthdata.com/downloads/110m-cultural-vectors/.\n",
      "  world = gpd.read_file(gpd.datasets.get_path('naturalearth_lowres'))\n",
      "c:\\Users\\matteo.mikos\\AppData\\Local\\anaconda3\\envs\\ogc_workshop\\Lib\\site-packages\\geopandas\\plotting.py:732: FutureWarning: is_categorical_dtype is deprecated and will be removed in a future version. Use isinstance(dtype, CategoricalDtype) instead\n",
      "  if pd.api.types.is_categorical_dtype(values.dtype):\n"
     ]
    },
    {
     "data": {
      "text/plain": [
       "(33.0, 65.0)"
      ]
     },
     "execution_count": 41,
     "metadata": {},
     "output_type": "execute_result"
    },
    {
     "data": {
      "image/png": "[encoded data removed]",
      "text/plain": [
       "<Figure size 900x800 with 1 Axes>"
      ]
     },
     "metadata": {},
     "output_type": "display_data"
    }
   ],
   "source": [
    "# Get shapefile of world outline\n",
    "world = gpd.read_file(gpd.datasets.get_path('naturalearth_lowres'))\n",
    "fig, ax = plt.subplots(1, figsize=(9,8))\n",
    "world.plot(ax=ax) # add world as base layer\n",
    "gdf.plot(column='status',\n",
    "         categorical=False,\n",
    "         cmap='tab10',\n",
    "         legend= True,\n",
    "         legend_kwds={'loc': 'lower right'},\n",
    "         alpha = 1,\n",
    "         ax=ax) # Add study areas colored by study region number\n",
    "ax.set_title('Offshore Wind Farm Projects in European waters',fontsize=20)\n",
    "\n",
    "#Set the map limits based on the bbox params to zoom in on your dataset\n",
    "ax.set_xlim(-16,25) \n",
    "ax.set_ylim(33,65)"
   ]
  },
  {
   "cell_type": "markdown",
   "metadata": {},
   "source": [
    "#### Subset data by attributes using [OGC Filter Encoding](https://www.ogc.org/standards/filter)"
   ]
  },
  {
   "cell_type": "code",
   "execution_count": 42,
   "metadata": {},
   "outputs": [
    {
     "data": {
      "text/html": [
       "<div>\n",
       "<style scoped>\n",
       "    .dataframe tbody tr th:only-of-type {\n",
       "        vertical-align: middle;\n",
       "    }\n",
       "\n",
       "    .dataframe tbody tr th {\n",
       "        vertical-align: top;\n",
       "    }\n",
       "\n",
       "    .dataframe thead th {\n",
       "        text-align: right;\n",
       "    }\n",
       "</style>\n",
       "<table border=\"1\" class=\"dataframe\">\n",
       "  <thead>\n",
       "    <tr style=\"text-align: right;\">\n",
       "      <th></th>\n",
       "      <th>id</th>\n",
       "      <th>fid</th>\n",
       "      <th>country</th>\n",
       "      <th>n_turbines</th>\n",
       "      <th>power_mw</th>\n",
       "      <th>status</th>\n",
       "      <th>year</th>\n",
       "      <th>dist_coast</th>\n",
       "      <th>area_sqkm</th>\n",
       "      <th>notes</th>\n",
       "      <th>geometry</th>\n",
       "    </tr>\n",
       "  </thead>\n",
       "  <tbody>\n",
       "    <tr>\n",
       "      <th>0</th>\n",
       "      <td>Wind_Farms_EMODnet.40</td>\n",
       "      <td>40</td>\n",
       "      <td>Denmark</td>\n",
       "      <td>NaN</td>\n",
       "      <td>NaN</td>\n",
       "      <td>Planned</td>\n",
       "      <td></td>\n",
       "      <td>49194.172947</td>\n",
       "      <td>1872.941410</td>\n",
       "      <td></td>\n",
       "      <td>MULTIPOLYGON (((6.41926 55.80585, 6.41538 55.8...</td>\n",
       "    </tr>\n",
       "    <tr>\n",
       "      <th>1</th>\n",
       "      <td>Wind_Farms_EMODnet.48</td>\n",
       "      <td>48</td>\n",
       "      <td>Denmark</td>\n",
       "      <td>NaN</td>\n",
       "      <td>NaN</td>\n",
       "      <td>Planned</td>\n",
       "      <td></td>\n",
       "      <td>19964.419331</td>\n",
       "      <td>3176.148975</td>\n",
       "      <td></td>\n",
       "      <td>MULTIPOLYGON (((7.79172 56.37805, 7.79165 56.3...</td>\n",
       "    </tr>\n",
       "    <tr>\n",
       "      <th>2</th>\n",
       "      <td>Wind_Farms_EMODnet.36</td>\n",
       "      <td>36</td>\n",
       "      <td>Denmark</td>\n",
       "      <td>NaN</td>\n",
       "      <td>NaN</td>\n",
       "      <td>Planned</td>\n",
       "      <td></td>\n",
       "      <td>109379.688310</td>\n",
       "      <td>4484.323143</td>\n",
       "      <td></td>\n",
       "      <td>MULTIPOLYGON (((6.33084 56.44456, 6.32952 56.4...</td>\n",
       "    </tr>\n",
       "    <tr>\n",
       "      <th>3</th>\n",
       "      <td>Wind_Farms_EMODnet.44</td>\n",
       "      <td>44</td>\n",
       "      <td>Denmark</td>\n",
       "      <td>NaN</td>\n",
       "      <td>NaN</td>\n",
       "      <td>Planned</td>\n",
       "      <td></td>\n",
       "      <td>73863.316263</td>\n",
       "      <td>1642.587692</td>\n",
       "      <td></td>\n",
       "      <td>MULTIPOLYGON (((6.51131 56.88091, 6.54150 56.8...</td>\n",
       "    </tr>\n",
       "    <tr>\n",
       "      <th>4</th>\n",
       "      <td>Wind_Farms_EMODnet.81</td>\n",
       "      <td>81</td>\n",
       "      <td>Netherlands</td>\n",
       "      <td>NaN</td>\n",
       "      <td>4000.0</td>\n",
       "      <td>Planned</td>\n",
       "      <td></td>\n",
       "      <td>49466.898142</td>\n",
       "      <td>1172.060155</td>\n",
       "      <td></td>\n",
       "      <td>MULTIPOLYGON (((3.74863 53.16913, 3.74864 53.0...</td>\n",
       "    </tr>\n",
       "    <tr>\n",
       "      <th>5</th>\n",
       "      <td>Wind_Farms_EMODnet.133</td>\n",
       "      <td>133</td>\n",
       "      <td>Ireland</td>\n",
       "      <td>NaN</td>\n",
       "      <td>NaN</td>\n",
       "      <td>Planned</td>\n",
       "      <td></td>\n",
       "      <td>0.000000</td>\n",
       "      <td>1009.408557</td>\n",
       "      <td></td>\n",
       "      <td>MULTIPOLYGON (((-7.49680 52.06100, -7.49660 52...</td>\n",
       "    </tr>\n",
       "    <tr>\n",
       "      <th>6</th>\n",
       "      <td>Wind_Farms_EMODnet.294</td>\n",
       "      <td>294</td>\n",
       "      <td>United Kingdom</td>\n",
       "      <td>NaN</td>\n",
       "      <td>NaN</td>\n",
       "      <td>Planned</td>\n",
       "      <td>2020</td>\n",
       "      <td>9457.333545</td>\n",
       "      <td>1106.354044</td>\n",
       "      <td></td>\n",
       "      <td>MULTIPOLYGON (((-6.32441 59.05853, -6.31226 59...</td>\n",
       "    </tr>\n",
       "    <tr>\n",
       "      <th>7</th>\n",
       "      <td>Wind_Farms_EMODnet.295</td>\n",
       "      <td>295</td>\n",
       "      <td>United Kingdom</td>\n",
       "      <td>NaN</td>\n",
       "      <td>NaN</td>\n",
       "      <td>Planned</td>\n",
       "      <td>2020</td>\n",
       "      <td>3171.943570</td>\n",
       "      <td>1162.427300</td>\n",
       "      <td></td>\n",
       "      <td>MULTIPOLYGON (((-4.10739 59.13575, -4.09759 59...</td>\n",
       "    </tr>\n",
       "    <tr>\n",
       "      <th>8</th>\n",
       "      <td>Wind_Farms_EMODnet.297</td>\n",
       "      <td>297</td>\n",
       "      <td>United Kingdom</td>\n",
       "      <td>NaN</td>\n",
       "      <td>NaN</td>\n",
       "      <td>Planned</td>\n",
       "      <td>2020</td>\n",
       "      <td>59706.165817</td>\n",
       "      <td>1291.429348</td>\n",
       "      <td></td>\n",
       "      <td>MULTIPOLYGON (((-0.50129 57.47805, -0.48542 57...</td>\n",
       "    </tr>\n",
       "    <tr>\n",
       "      <th>9</th>\n",
       "      <td>Wind_Farms_EMODnet.298</td>\n",
       "      <td>298</td>\n",
       "      <td>United Kingdom</td>\n",
       "      <td>NaN</td>\n",
       "      <td>NaN</td>\n",
       "      <td>Planned</td>\n",
       "      <td>2020</td>\n",
       "      <td>56455.635331</td>\n",
       "      <td>3743.866036</td>\n",
       "      <td></td>\n",
       "      <td>MULTIPOLYGON (((-0.47392 56.91518, -0.45823 56...</td>\n",
       "    </tr>\n",
       "    <tr>\n",
       "      <th>10</th>\n",
       "      <td>Wind_Farms_EMODnet.448</td>\n",
       "      <td>448</td>\n",
       "      <td>Finland</td>\n",
       "      <td>NaN</td>\n",
       "      <td>NaN</td>\n",
       "      <td>Planned</td>\n",
       "      <td></td>\n",
       "      <td>6150.131138</td>\n",
       "      <td>1007.154648</td>\n",
       "      <td></td>\n",
       "      <td>MULTIPOLYGON (((20.60960 59.50261, 20.38395 59...</td>\n",
       "    </tr>\n",
       "    <tr>\n",
       "      <th>11</th>\n",
       "      <td>Wind_Farms_EMODnet.449</td>\n",
       "      <td>449</td>\n",
       "      <td>Finland</td>\n",
       "      <td>NaN</td>\n",
       "      <td>NaN</td>\n",
       "      <td>Planned</td>\n",
       "      <td></td>\n",
       "      <td>6150.131138</td>\n",
       "      <td>1007.154648</td>\n",
       "      <td></td>\n",
       "      <td>MULTIPOLYGON (((20.60960 59.50261, 20.38395 59...</td>\n",
       "    </tr>\n",
       "    <tr>\n",
       "      <th>12</th>\n",
       "      <td>Wind_Farms_EMODnet.450</td>\n",
       "      <td>450</td>\n",
       "      <td>Denmark</td>\n",
       "      <td>NaN</td>\n",
       "      <td>NaN</td>\n",
       "      <td>Planned</td>\n",
       "      <td></td>\n",
       "      <td>5000.551370</td>\n",
       "      <td>10079.276602</td>\n",
       "      <td></td>\n",
       "      <td>MULTIPOLYGON (((14.60980 55.11517, 14.60971 55...</td>\n",
       "    </tr>\n",
       "    <tr>\n",
       "      <th>13</th>\n",
       "      <td>Wind_Farms_EMODnet.451</td>\n",
       "      <td>451</td>\n",
       "      <td>Denmark</td>\n",
       "      <td>NaN</td>\n",
       "      <td>NaN</td>\n",
       "      <td>Planned</td>\n",
       "      <td></td>\n",
       "      <td>0.000000</td>\n",
       "      <td>5713.909591</td>\n",
       "      <td></td>\n",
       "      <td>MULTIPOLYGON (((11.76105 54.53160, 11.76105 54...</td>\n",
       "    </tr>\n",
       "    <tr>\n",
       "      <th>14</th>\n",
       "      <td>Wind_Farms_EMODnet.517</td>\n",
       "      <td>517</td>\n",
       "      <td>Spain</td>\n",
       "      <td>NaN</td>\n",
       "      <td>NaN</td>\n",
       "      <td>Planned</td>\n",
       "      <td></td>\n",
       "      <td>28752.000636</td>\n",
       "      <td>1807.819544</td>\n",
       "      <td></td>\n",
       "      <td>MULTIPOLYGON (((-8.67734 43.76666, -8.99647 43...</td>\n",
       "    </tr>\n",
       "    <tr>\n",
       "      <th>15</th>\n",
       "      <td>Wind_Farms_EMODnet.529</td>\n",
       "      <td>529</td>\n",
       "      <td>Estonia</td>\n",
       "      <td>NaN</td>\n",
       "      <td>NaN</td>\n",
       "      <td>Planned</td>\n",
       "      <td></td>\n",
       "      <td>9903.634178</td>\n",
       "      <td>1217.896092</td>\n",
       "      <td></td>\n",
       "      <td>MULTIPOLYGON (((21.69848 57.84691, 21.65391 57...</td>\n",
       "    </tr>\n",
       "  </tbody>\n",
       "</table>\n",
       "</div>"
      ],
      "text/plain": [
       "                        id  fid         country  n_turbines  power_mw  \\\n",
       "0    Wind_Farms_EMODnet.40   40         Denmark         NaN       NaN   \n",
       "1    Wind_Farms_EMODnet.48   48         Denmark         NaN       NaN   \n",
       "2    Wind_Farms_EMODnet.36   36         Denmark         NaN       NaN   \n",
       "3    Wind_Farms_EMODnet.44   44         Denmark         NaN       NaN   \n",
       "4    Wind_Farms_EMODnet.81   81     Netherlands         NaN    4000.0   \n",
       "5   Wind_Farms_EMODnet.133  133         Ireland         NaN       NaN   \n",
       "6   Wind_Farms_EMODnet.294  294  United Kingdom         NaN       NaN   \n",
       "7   Wind_Farms_EMODnet.295  295  United Kingdom         NaN       NaN   \n",
       "8   Wind_Farms_EMODnet.297  297  United Kingdom         NaN       NaN   \n",
       "9   Wind_Farms_EMODnet.298  298  United Kingdom         NaN       NaN   \n",
       "10  Wind_Farms_EMODnet.448  448         Finland         NaN       NaN   \n",
       "11  Wind_Farms_EMODnet.449  449         Finland         NaN       NaN   \n",
       "12  Wind_Farms_EMODnet.450  450         Denmark         NaN       NaN   \n",
       "13  Wind_Farms_EMODnet.451  451         Denmark         NaN       NaN   \n",
       "14  Wind_Farms_EMODnet.517  517           Spain         NaN       NaN   \n",
       "15  Wind_Farms_EMODnet.529  529         Estonia         NaN       NaN   \n",
       "\n",
       "     status  year     dist_coast     area_sqkm notes  \\\n",
       "0   Planned         49194.172947   1872.941410         \n",
       "1   Planned         19964.419331   3176.148975         \n",
       "2   Planned        109379.688310   4484.323143         \n",
       "3   Planned         73863.316263   1642.587692         \n",
       "4   Planned         49466.898142   1172.060155         \n",
       "5   Planned             0.000000   1009.408557         \n",
       "6   Planned  2020    9457.333545   1106.354044         \n",
       "7   Planned  2020    3171.943570   1162.427300         \n",
       "8   Planned  2020   59706.165817   1291.429348         \n",
       "9   Planned  2020   56455.635331   3743.866036         \n",
       "10  Planned          6150.131138   1007.154648         \n",
       "11  Planned          6150.131138   1007.154648         \n",
       "12  Planned          5000.551370  10079.276602         \n",
       "13  Planned             0.000000   5713.909591         \n",
       "14  Planned         28752.000636   1807.819544         \n",
       "15  Planned          9903.634178   1217.896092         \n",
       "\n",
       "                                             geometry  \n",
       "0   MULTIPOLYGON (((6.41926 55.80585, 6.41538 55.8...  \n",
       "1   MULTIPOLYGON (((7.79172 56.37805, 7.79165 56.3...  \n",
       "2   MULTIPOLYGON (((6.33084 56.44456, 6.32952 56.4...  \n",
       "3   MULTIPOLYGON (((6.51131 56.88091, 6.54150 56.8...  \n",
       "4   MULTIPOLYGON (((3.74863 53.16913, 3.74864 53.0...  \n",
       "5   MULTIPOLYGON (((-7.49680 52.06100, -7.49660 52...  \n",
       "6   MULTIPOLYGON (((-6.32441 59.05853, -6.31226 59...  \n",
       "7   MULTIPOLYGON (((-4.10739 59.13575, -4.09759 59...  \n",
       "8   MULTIPOLYGON (((-0.50129 57.47805, -0.48542 57...  \n",
       "9   MULTIPOLYGON (((-0.47392 56.91518, -0.45823 56...  \n",
       "10  MULTIPOLYGON (((20.60960 59.50261, 20.38395 59...  \n",
       "11  MULTIPOLYGON (((20.60960 59.50261, 20.38395 59...  \n",
       "12  MULTIPOLYGON (((14.60980 55.11517, 14.60971 55...  \n",
       "13  MULTIPOLYGON (((11.76105 54.53160, 11.76105 54...  \n",
       "14  MULTIPOLYGON (((-8.67734 43.76666, -8.99647 43...  \n",
       "15  MULTIPOLYGON (((21.69848 57.84691, 21.65391 57...  "
      ]
     },
     "execution_count": 42,
     "metadata": {},
     "output_type": "execute_result"
    }
   ],
   "source": [
    "#Import the Filter encoding standard\n",
    "import owslib.fes as fes \n",
    "from owslib.etree import etree\n",
    "\n",
    "# Build a filter\n",
    "sa_filter = fes.PropertyIsEqualTo(propertyname='status', literal='Planned') # Planned Windfarm projects\n",
    "fid_filter = fes.PropertyIsBetween(propertyname='area_sqkm', lower = 1000, upper= 100000) # filter for projects bigger than 1000Km²\n",
    "filter = fes.And([sa_filter,fid_filter]) # combine both filtering parameters using \"AND\"\n",
    "\n",
    "# Get an xml representation of the filter\n",
    "filterxml = etree.tostring(filter.toXML()).decode(\"utf-8\")\n",
    "\n",
    "# Pass it to getFeature\n",
    "response = wfs.getfeature(typename=dataset,\n",
    "                        outputFormat='application/json',\n",
    "                        filter=filterxml)\n",
    "\n",
    "# Write it to a GeoJson file\n",
    "with open(f'data/{dataset.replace(\":\",\"_\")}_filtered.json', 'wb') as outfile:\n",
    "    outfile.write(response.read())\n",
    "response.close()\n",
    "\n",
    "# Read the GeoJson file using GeoPandas\n",
    "gdf = gpd.read_file(f'data/{dataset.replace(\":\",\"_\")}_filtered.json')\n",
    "gdf"
   ]
  },
  {
   "cell_type": "code",
   "execution_count": 43,
   "metadata": {},
   "outputs": [
    {
     "name": "stderr",
     "output_type": "stream",
     "text": [
      "c:\\Users\\matteo.mikos\\AppData\\Local\\anaconda3\\envs\\ogc_workshop\\Lib\\site-packages\\geopandas\\plotting.py:732: FutureWarning: is_categorical_dtype is deprecated and will be removed in a future version. Use isinstance(dtype, CategoricalDtype) instead\n",
      "  if pd.api.types.is_categorical_dtype(values.dtype):\n"
     ]
    },
    {
     "data": {
      "text/plain": [
       "(33.0, 65.0)"
      ]
     },
     "execution_count": 43,
     "metadata": {},
     "output_type": "execute_result"
    },
    {
     "data": {
      "image/png": "[encoded data removed]",
      "text/plain": [
       "<Figure size 1500x700 with 1 Axes>"
      ]
     },
     "metadata": {},
     "output_type": "display_data"
    }
   ],
   "source": [
    "fig, ax = plt.subplots(1, figsize=(15,7))\n",
    "world.plot(ax=ax) # add world base layer\n",
    "\n",
    "#Plot the dataset\n",
    "gdf.plot(column='status',\n",
    "         categorical=False,\n",
    "         cmap='Set1',\n",
    "         legend= True,\n",
    "         legend_kwds={'loc': 'lower right'},\n",
    "         alpha = 1,\n",
    "         ax=ax)\n",
    "ax.set_title('Planned offshore wind farm projects\\n larger than 1000 km²',fontsize=18)\n",
    "\n",
    "#Set the map limits based on the bbox params to zoom in on your dataset\n",
    "ax.set_xlim(-16,25)\n",
    "ax.set_ylim(33,65)"
   ]
  },
  {
   "cell_type": "markdown",
   "metadata": {},
   "source": [
    "We will download the outline of the MissionAtlantic Study Area: Vitória-Trindade Seamount Chain off Brazil as we will use it for the rest of this tutorial"
   ]
  },
  {
   "cell_type": "code",
   "execution_count": 44,
   "metadata": {},
   "outputs": [
    {
     "name": "stdout",
     "output_type": "stream",
     "text": [
      "EMODnet, Human Activities, Energy, Wind Farms\n",
      "The database on offshore wind farms in the EU was created in 2014 by CETMAR for the European Marine Observation and Data Network (EMODnet). It is the result of the aggregation and harmonization of datasets provided by several sources. It is updated every year and is available for viewing and download on EMODnet Human Activities web portal (https://emodnet.ec.europa.eu/en/human-activities). The database contains points and/or (where available) polygons representing offshore wind farms in the following countries: Belgium, Denmark, Estonia, Finland, France, Germany, Greece, Ireland, Italy, Latvia, Lithuania, Netherlands, Norway, Poland, Portugal, Spain, Sweden and United Kingdom. Each point has the following attributes (where available): Name, Nº of turbines, Status (Approved, Planned, Dismantled, Construction, Production, Test site), Country, Year, Power (MW), Distance to coast (metres) and Area (square kilometres). The distance to coast (EEA coastline shapefile) has been calculated using the UTM WGS84 Zone projected coordinate system where data fall in.\n"
     ]
    },
    {
     "data": {
      "text/plain": [
       "<Axes: >"
      ]
     },
     "execution_count": 44,
     "metadata": {},
     "output_type": "execute_result"
    },
    {
     "data": {
      "image/png": "[encoded data removed]",
      "text/plain": [
       "<Figure size 640x480 with 1 Axes>"
      ]
     },
     "metadata": {},
     "output_type": "display_data"
    }
   ],
   "source": [
    "dataset = 'geonode:Wind_Farms_EMODnet'\n",
    "print(wfs.contents[dataset].title)\n",
    "print(wfs.contents[dataset].abstract)\n",
    "response = wfs.getfeature(typename=dataset,\n",
    "                            outputFormat='application/json')\n",
    "# write it to a GeoJson file\n",
    "with open(f'data/study_area.json', 'wb') as outfile:\n",
    "    outfile.write(response.read())\n",
    "response.close()\n",
    "# read it into geopandas\n",
    "study_area = gpd.read_file('data/study_area.json')\n",
    "study_area.plot()"
   ]
  },
  {
   "cell_type": "markdown",
   "metadata": {},
   "source": [
    "### 3.2 Get raster data with WCS"
   ]
  },
  {
   "cell_type": "markdown",
   "metadata": {},
   "source": [
    "#### <i>Create a WebCoverageService (WCS) object</i>"
   ]
  },
  {
   "cell_type": "code",
   "execution_count": 45,
   "metadata": {},
   "outputs": [],
   "source": [
    "wcs = WebCoverageService('https://geonode.missionatlantic.eu/geoserver/ows', version = '1.0.0')"
   ]
  },
  {
   "cell_type": "markdown",
   "metadata": {},
   "source": [
    "#### <i>Get a list of available coverages</i>"
   ]
  },
  {
   "cell_type": "code",
   "execution_count": 46,
   "metadata": {},
   "outputs": [
    {
     "name": "stdout",
     "output_type": "stream",
     "text": [
      "geonode:AAHA_Level1_allClasses\n",
      "geonode:AAHA_Level2_allClasses\n",
      "geonode:AAHA_Level3_allClasses\n",
      "geonode:AcaArc_Ens_Cont_Preds_Thresh_200m_GHO_Masked_reprojectedGeoNode\n",
      "geonode:Atl_Combine_ExtendedBG_WMS_YoolProd_TopoFromMOL_10km_WGS84_atlantic\n",
      "geonode:DisLop_Ens_Cont_Preds_Thresh_200m_GHO_Masked_reprojectedGeoNode\n",
      "geonode:Kstelliferun_density_clipped_GHO_reprojectedGeoNode\n",
      "geonode:LophReef_threhsolded_GHO_reprojectedGeoNode\n",
      "geonode:N1_p\n",
      "geonode:O2_o\n",
      "geonode:O3_TA\n",
      "geonode:O3_c\n",
      "geonode:PherCarp_threhsolded_GHO_reprojectedGeoNode\n",
      "geonode:Ptot_Chl_result\n",
      "geonode:Ptot_Chl_result_depth_int\n",
      "geonode:Ptot_NPP_result\n",
      "geonode:Ptot_NPP_result_depth_int\n",
      "geonode:SyrFra_Ens_Cont_Preds_Thresh_200m_GHO_Masked_reprojectedGeoNode\n",
      "geonode:mldr10_1\n",
      "geonode:so_abs\n",
      "geonode:thetao_con\n",
      "geonode:uop_xenos_density\n"
     ]
    }
   ],
   "source": [
    "for coverage_name in wcs.contents.keys():\n",
    "    print(coverage_name)"
   ]
  },
  {
   "cell_type": "code",
   "execution_count": 59,
   "metadata": {},
   "outputs": [],
   "source": [
    "dataset = 'geonode:O3_TA'"
   ]
  },
  {
   "cell_type": "markdown",
   "metadata": {},
   "source": [
    "#### <i>Retrieve a list of available properties of a coverage</i>"
   ]
  },
  {
   "cell_type": "code",
   "execution_count": 60,
   "metadata": {},
   "outputs": [
    {
     "name": "stdout",
     "output_type": "stream",
     "text": [
      "abstract\n",
      "axisDescriptions\n",
      "boundingBox\n",
      "boundingBoxWGS84\n",
      "boundingboxes\n",
      "crsOptions\n",
      "defaulttimeposition\n",
      "grid\n",
      "id\n",
      "keywords\n",
      "styles\n",
      "supportedCRS\n",
      "supportedFormats\n",
      "timelimits\n",
      "timepositions\n",
      "title\n"
     ]
    }
   ],
   "source": [
    "for item in dir(wcs.contents[dataset]):\n",
    "    if \"_\" not in item:\n",
    "        print(item)"
   ]
  },
  {
   "cell_type": "code",
   "execution_count": 62,
   "metadata": {},
   "outputs": [
    {
     "name": "stdout",
     "output_type": "stream",
     "text": [
      "['1980-01-16T12:00:00.000Z', '1980-02-15T12:00:00.000Z', '1980-03-16T12:00:00.000Z', '1980-04-16T00:00:00.000Z', '1980-05-16T12:00:00.000Z', '1980-06-16T00:00:00.000Z', '1980-07-16T12:00:00.000Z', '1980-08-16T12:00:00.000Z', '1980-09-16T00:00:00.000Z', '1980-10-16T12:00:00.000Z', '1980-11-16T00:00:00.000Z', '1980-12-16T12:00:00.000Z']\n",
      "1980-04-16T00:00:00.000Z\n"
     ]
    }
   ],
   "source": [
    "print(wcs.contents[dataset].timepositions)\n",
    "TimePosition = wcs.contents[dataset].timepositions[3]\n",
    "print(TimePosition)"
   ]
  },
  {
   "cell_type": "markdown",
   "metadata": {},
   "source": [
    "#### <i>Retrieve grid property information</i>"
   ]
  },
  {
   "cell_type": "code",
   "execution_count": 49,
   "metadata": {},
   "outputs": [
    {
     "name": "stdout",
     "output_type": "stream",
     "text": [
      "axislabels: ['x', 'y']\n",
      "dimension: 2\n",
      "highlimits: ['1147', '1746']\n",
      "lowlimits: ['0', '0']\n",
      "offsetvectors: [['0.0833333333333333', '0.0'], ['0.0', '-0.0833333333333333']]\n",
      "origin: ['-65.95833333333336', '83.29166666666667']\n"
     ]
    }
   ],
   "source": [
    "for item in dir(wcs.contents[dataset].grid):\n",
    "    if \"_\" not in item:\n",
    "        print(item + \": \" + str(wcs.contents[dataset].grid.__dict__[item]))"
   ]
  },
  {
   "cell_type": "markdown",
   "metadata": {},
   "source": [
    "#### Get geo-bounding boxes and native CRS"
   ]
  },
  {
   "cell_type": "code",
   "execution_count": 50,
   "metadata": {},
   "outputs": [
    {
     "data": {
      "text/plain": [
       "[{'nativeSrs': 'EPSG:4326',\n",
       "  'bbox': (-66.00000000000003,\n",
       "   -62.24999999999994,\n",
       "   29.6666666666666,\n",
       "   83.33333333333334)}]"
      ]
     },
     "execution_count": 50,
     "metadata": {},
     "output_type": "execute_result"
    }
   ],
   "source": [
    "wcs.contents[dataset].boundingboxes"
   ]
  },
  {
   "cell_type": "markdown",
   "metadata": {},
   "source": [
    "#### Retrieve supported formats"
   ]
  },
  {
   "cell_type": "code",
   "execution_count": 51,
   "metadata": {},
   "outputs": [
    {
     "data": {
      "text/plain": [
       "['ArcGrid',\n",
       " 'GeoTIFF',\n",
       " 'GIF',\n",
       " 'GeoPackage (mosaic)',\n",
       " 'ImageMosaic',\n",
       " 'JPEG',\n",
       " 'MBTiles',\n",
       " 'NetCDF',\n",
       " 'PNG',\n",
       " 'TIFF',\n",
       " 'org.geoserver.catalog.testreader.CustomFormat']"
      ]
     },
     "execution_count": 51,
     "metadata": {},
     "output_type": "execute_result"
    }
   ],
   "source": [
    "wcs.contents[dataset].supportedFormats"
   ]
  },
  {
   "cell_type": "markdown",
   "metadata": {},
   "source": [
    "#### Subset and download raster data using a GetCoverage request"
   ]
  },
  {
   "cell_type": "code",
   "execution_count": 52,
   "metadata": {},
   "outputs": [
    {
     "name": "stdout",
     "output_type": "stream",
     "text": [
      "[-6.76195629, 58.31346782, -6.27221288, 58.50840273]\n",
      "EPSG:4326\n"
     ]
    }
   ],
   "source": [
    "# get parameters for grid\n",
    "bbox = study_area.bounds.values[5].tolist() # get bbox for MissionAtlantic study area \n",
    "crs = study_area.crs.srs # get crs of the Study Area file\n",
    "print(bbox)\n",
    "print(crs)"
   ]
  },
  {
   "cell_type": "code",
   "execution_count": 67,
   "metadata": {},
   "outputs": [
    {
     "name": "stdout",
     "output_type": "stream",
     "text": [
      "https://geonode.missionatlantic.eu/geoserver/wcs?version=1.0.0&request=GetCoverage&service=WCS&Coverage=geonode%3AO3_TA&BBox=-6.76195629%2C58.31346782%2C-6.27221288%2C58.50840273&time=1%2C9%2C8%2C0%2C-%2C0%2C4%2C-%2C1%2C6%2CT%2C0%2C0%2C%3A%2C0%2C0%2C%3A%2C0%2C0%2C.%2C0%2C0%2C0%2CZ&crs=EPSG%3A4326&format=GeoTIFF&resx=0.00833333&resy=0.00833333&interpolation=bicubic\n"
     ]
    }
   ],
   "source": [
    "# GetCoverage request\n",
    "response = wcs.getCoverage(identifier=dataset,\n",
    "                           format='GeoTIFF',\n",
    "                           bbox=bbox,\n",
    "                           time=TimePosition,\n",
    "                           crs=crs,\n",
    "                           resx=0.00833333,resy=0.00833333,\n",
    "                           interpolation='bicubic')\n",
    "print(response.geturl())\n",
    "with open(f'data/{dataset.replace(\":\",\"_\")}.tif','wb') as outfile:\n",
    "    outfile.write(response.read())"
   ]
  },
  {
   "cell_type": "code",
   "execution_count": 66,
   "metadata": {},
   "outputs": [
    {
     "name": "stdout",
     "output_type": "stream",
     "text": [
      "\u001b[1;31mSignature:\u001b[0m\n",
      "\u001b[0mwcs\u001b[0m\u001b[1;33m.\u001b[0m\u001b[0mgetCoverage\u001b[0m\u001b[1;33m(\u001b[0m\u001b[1;33m\n",
      "\u001b[0m    \u001b[0midentifier\u001b[0m\u001b[1;33m=\u001b[0m\u001b[1;32mNone\u001b[0m\u001b[1;33m,\u001b[0m\u001b[1;33m\n",
      "\u001b[0m    \u001b[0mbbox\u001b[0m\u001b[1;33m=\u001b[0m\u001b[1;32mNone\u001b[0m\u001b[1;33m,\u001b[0m\u001b[1;33m\n",
      "\u001b[0m    \u001b[0mtime\u001b[0m\u001b[1;33m=\u001b[0m\u001b[1;32mNone\u001b[0m\u001b[1;33m,\u001b[0m\u001b[1;33m\n",
      "\u001b[0m    \u001b[0mformat\u001b[0m\u001b[1;33m=\u001b[0m\u001b[1;32mNone\u001b[0m\u001b[1;33m,\u001b[0m\u001b[1;33m\n",
      "\u001b[0m    \u001b[0mcrs\u001b[0m\u001b[1;33m=\u001b[0m\u001b[1;32mNone\u001b[0m\u001b[1;33m,\u001b[0m\u001b[1;33m\n",
      "\u001b[0m    \u001b[0mwidth\u001b[0m\u001b[1;33m=\u001b[0m\u001b[1;32mNone\u001b[0m\u001b[1;33m,\u001b[0m\u001b[1;33m\n",
      "\u001b[0m    \u001b[0mheight\u001b[0m\u001b[1;33m=\u001b[0m\u001b[1;32mNone\u001b[0m\u001b[1;33m,\u001b[0m\u001b[1;33m\n",
      "\u001b[0m    \u001b[0mresx\u001b[0m\u001b[1;33m=\u001b[0m\u001b[1;32mNone\u001b[0m\u001b[1;33m,\u001b[0m\u001b[1;33m\n",
      "\u001b[0m    \u001b[0mresy\u001b[0m\u001b[1;33m=\u001b[0m\u001b[1;32mNone\u001b[0m\u001b[1;33m,\u001b[0m\u001b[1;33m\n",
      "\u001b[0m    \u001b[0mresz\u001b[0m\u001b[1;33m=\u001b[0m\u001b[1;32mNone\u001b[0m\u001b[1;33m,\u001b[0m\u001b[1;33m\n",
      "\u001b[0m    \u001b[0mparameter\u001b[0m\u001b[1;33m=\u001b[0m\u001b[1;32mNone\u001b[0m\u001b[1;33m,\u001b[0m\u001b[1;33m\n",
      "\u001b[0m    \u001b[0mmethod\u001b[0m\u001b[1;33m=\u001b[0m\u001b[1;34m'Get'\u001b[0m\u001b[1;33m,\u001b[0m\u001b[1;33m\n",
      "\u001b[0m    \u001b[0mtimeout\u001b[0m\u001b[1;33m=\u001b[0m\u001b[1;36m30\u001b[0m\u001b[1;33m,\u001b[0m\u001b[1;33m\n",
      "\u001b[0m    \u001b[1;33m**\u001b[0m\u001b[0mkwargs\u001b[0m\u001b[1;33m,\u001b[0m\u001b[1;33m\n",
      "\u001b[0m\u001b[1;33m)\u001b[0m\u001b[1;33m\u001b[0m\u001b[1;33m\u001b[0m\u001b[0m\n",
      "\u001b[1;31mSource:\u001b[0m   \n",
      "    \u001b[1;32mdef\u001b[0m \u001b[0mgetCoverage\u001b[0m\u001b[1;33m(\u001b[0m\u001b[0mself\u001b[0m\u001b[1;33m,\u001b[0m \u001b[0midentifier\u001b[0m\u001b[1;33m=\u001b[0m\u001b[1;32mNone\u001b[0m\u001b[1;33m,\u001b[0m \u001b[0mbbox\u001b[0m\u001b[1;33m=\u001b[0m\u001b[1;32mNone\u001b[0m\u001b[1;33m,\u001b[0m \u001b[0mtime\u001b[0m\u001b[1;33m=\u001b[0m\u001b[1;32mNone\u001b[0m\u001b[1;33m,\u001b[0m \u001b[0mformat\u001b[0m\u001b[1;33m=\u001b[0m\u001b[1;32mNone\u001b[0m\u001b[1;33m,\u001b[0m \u001b[0mcrs\u001b[0m\u001b[1;33m=\u001b[0m\u001b[1;32mNone\u001b[0m\u001b[1;33m,\u001b[0m \u001b[0mwidth\u001b[0m\u001b[1;33m=\u001b[0m\u001b[1;32mNone\u001b[0m\u001b[1;33m,\u001b[0m \u001b[0mheight\u001b[0m\u001b[1;33m=\u001b[0m\u001b[1;32mNone\u001b[0m\u001b[1;33m,\u001b[0m\u001b[1;33m\n",
      "\u001b[0m                    \u001b[0mresx\u001b[0m\u001b[1;33m=\u001b[0m\u001b[1;32mNone\u001b[0m\u001b[1;33m,\u001b[0m \u001b[0mresy\u001b[0m\u001b[1;33m=\u001b[0m\u001b[1;32mNone\u001b[0m\u001b[1;33m,\u001b[0m \u001b[0mresz\u001b[0m\u001b[1;33m=\u001b[0m\u001b[1;32mNone\u001b[0m\u001b[1;33m,\u001b[0m \u001b[0mparameter\u001b[0m\u001b[1;33m=\u001b[0m\u001b[1;32mNone\u001b[0m\u001b[1;33m,\u001b[0m \u001b[0mmethod\u001b[0m\u001b[1;33m=\u001b[0m\u001b[1;34m'Get'\u001b[0m\u001b[1;33m,\u001b[0m \u001b[0mtimeout\u001b[0m\u001b[1;33m=\u001b[0m\u001b[1;36m30\u001b[0m\u001b[1;33m,\u001b[0m \u001b[1;33m**\u001b[0m\u001b[0mkwargs\u001b[0m\u001b[1;33m)\u001b[0m\u001b[1;33m:\u001b[0m\u001b[1;33m\n",
      "\u001b[0m        \u001b[1;34m\"\"\"Request and return a coverage from the WCS as a file-like object\n",
      "        note: additional **kwargs helps with multi-version implementation\n",
      "        core keyword arguments should be supported cross version\n",
      "        example:\n",
      "        cvg=wcs.getCoverage(identifier=['TuMYrRQ4'], timeSequence=['2792-06-01T00:00:00.0'], bbox=(-112,36,-106,41),\n",
      "                            format='cf-netcdf')\n",
      "\n",
      "        is equivalent to:\n",
      "        http://myhost/mywcs?SERVICE=WCS&REQUEST=GetCoverage&IDENTIFIER=TuMYrRQ4&VERSION=1.1.0&BOUNDINGBOX=-180,-90,180,90&TIME=2792-06-01T00:00:00.0&FORMAT=cf-netcdf\n",
      "\n",
      "        \"\"\"\u001b[0m\u001b[1;33m\n",
      "\u001b[0m        \u001b[0mmsg\u001b[0m \u001b[1;33m=\u001b[0m \u001b[1;34m'WCS 1.0.0 DEBUG: Parameters passed to GetCoverage: identifier={}, bbox={}, time={}, format={}, crs={}, width={}, height={}, resx={}, resy={}, resz={}, parameter={}, method={}, other_arguments={}'\u001b[0m  \u001b[1;31m# noqa\u001b[0m\u001b[1;33m\n",
      "\u001b[0m        \u001b[0mlog\u001b[0m\u001b[1;33m.\u001b[0m\u001b[0mdebug\u001b[0m\u001b[1;33m(\u001b[0m\u001b[0mmsg\u001b[0m\u001b[1;33m.\u001b[0m\u001b[0mformat\u001b[0m\u001b[1;33m(\u001b[0m\u001b[1;33m\n",
      "\u001b[0m            \u001b[0midentifier\u001b[0m\u001b[1;33m,\u001b[0m \u001b[0mbbox\u001b[0m\u001b[1;33m,\u001b[0m \u001b[0mtime\u001b[0m\u001b[1;33m,\u001b[0m \u001b[0mformat\u001b[0m\u001b[1;33m,\u001b[0m \u001b[0mcrs\u001b[0m\u001b[1;33m,\u001b[0m \u001b[0mwidth\u001b[0m\u001b[1;33m,\u001b[0m \u001b[0mheight\u001b[0m\u001b[1;33m,\u001b[0m \u001b[0mresx\u001b[0m\u001b[1;33m,\u001b[0m \u001b[0mresy\u001b[0m\u001b[1;33m,\u001b[0m \u001b[0mresz\u001b[0m\u001b[1;33m,\u001b[0m \u001b[0mparameter\u001b[0m\u001b[1;33m,\u001b[0m \u001b[0mmethod\u001b[0m\u001b[1;33m,\u001b[0m \u001b[0mstr\u001b[0m\u001b[1;33m(\u001b[0m\u001b[0mkwargs\u001b[0m\u001b[1;33m)\u001b[0m\u001b[1;33m)\u001b[0m\u001b[1;33m)\u001b[0m\u001b[1;33m\n",
      "\u001b[0m\u001b[1;33m\n",
      "\u001b[0m        \u001b[1;32mtry\u001b[0m\u001b[1;33m:\u001b[0m\u001b[1;33m\n",
      "\u001b[0m            \u001b[0mbase_url\u001b[0m \u001b[1;33m=\u001b[0m \u001b[0mnext\u001b[0m\u001b[1;33m(\u001b[0m\u001b[1;33m(\u001b[0m\u001b[0mm\u001b[0m\u001b[1;33m.\u001b[0m\u001b[0mget\u001b[0m\u001b[1;33m(\u001b[0m\u001b[1;34m'url'\u001b[0m\u001b[1;33m)\u001b[0m \u001b[1;32mfor\u001b[0m \u001b[0mm\u001b[0m \u001b[1;32min\u001b[0m \u001b[0mself\u001b[0m\u001b[1;33m.\u001b[0m\u001b[0mgetOperationByName\u001b[0m\u001b[1;33m(\u001b[0m\u001b[1;34m'GetCoverage'\u001b[0m\u001b[1;33m)\u001b[0m\u001b[1;33m.\u001b[0m\u001b[0mmethods\u001b[0m\u001b[1;33m\n",
      "\u001b[0m                            \u001b[1;32mif\u001b[0m \u001b[0mm\u001b[0m\u001b[1;33m.\u001b[0m\u001b[0mget\u001b[0m\u001b[1;33m(\u001b[0m\u001b[1;34m'type'\u001b[0m\u001b[1;33m)\u001b[0m\u001b[1;33m.\u001b[0m\u001b[0mlower\u001b[0m\u001b[1;33m(\u001b[0m\u001b[1;33m)\u001b[0m \u001b[1;33m==\u001b[0m \u001b[0mmethod\u001b[0m\u001b[1;33m.\u001b[0m\u001b[0mlower\u001b[0m\u001b[1;33m(\u001b[0m\u001b[1;33m)\u001b[0m\u001b[1;33m)\u001b[0m\u001b[1;33m)\u001b[0m\u001b[1;33m\n",
      "\u001b[0m        \u001b[1;32mexcept\u001b[0m \u001b[0mStopIteration\u001b[0m\u001b[1;33m:\u001b[0m\u001b[1;33m\n",
      "\u001b[0m            \u001b[0mbase_url\u001b[0m \u001b[1;33m=\u001b[0m \u001b[0mself\u001b[0m\u001b[1;33m.\u001b[0m\u001b[0murl\u001b[0m\u001b[1;33m\n",
      "\u001b[0m\u001b[1;33m\n",
      "\u001b[0m        \u001b[0mlog\u001b[0m\u001b[1;33m.\u001b[0m\u001b[0mdebug\u001b[0m\u001b[1;33m(\u001b[0m\u001b[1;34m'WCS 1.0.0 DEBUG: base url of server: %s'\u001b[0m \u001b[1;33m%\u001b[0m \u001b[0mbase_url\u001b[0m\u001b[1;33m)\u001b[0m\u001b[1;33m\n",
      "\u001b[0m\u001b[1;33m\n",
      "\u001b[0m        \u001b[1;31m# process kwargs\u001b[0m\u001b[1;33m\n",
      "\u001b[0m        \u001b[0mrequest\u001b[0m \u001b[1;33m=\u001b[0m \u001b[1;33m{\u001b[0m\u001b[1;34m'version'\u001b[0m\u001b[1;33m:\u001b[0m \u001b[0mself\u001b[0m\u001b[1;33m.\u001b[0m\u001b[0mversion\u001b[0m\u001b[1;33m,\u001b[0m \u001b[1;34m'request'\u001b[0m\u001b[1;33m:\u001b[0m \u001b[1;34m'GetCoverage'\u001b[0m\u001b[1;33m,\u001b[0m \u001b[1;34m'service'\u001b[0m\u001b[1;33m:\u001b[0m \u001b[1;34m'WCS'\u001b[0m\u001b[1;33m}\u001b[0m\u001b[1;33m\n",
      "\u001b[0m        \u001b[1;32massert\u001b[0m \u001b[0mlen\u001b[0m\u001b[1;33m(\u001b[0m\u001b[0midentifier\u001b[0m\u001b[1;33m)\u001b[0m \u001b[1;33m>\u001b[0m \u001b[1;36m0\u001b[0m\u001b[1;33m\n",
      "\u001b[0m        \u001b[0mrequest\u001b[0m\u001b[1;33m[\u001b[0m\u001b[1;34m'Coverage'\u001b[0m\u001b[1;33m]\u001b[0m \u001b[1;33m=\u001b[0m \u001b[0midentifier\u001b[0m\u001b[1;33m\n",
      "\u001b[0m        \u001b[1;31m# request['identifier'] = ','.join(identifier)\u001b[0m\u001b[1;33m\n",
      "\u001b[0m        \u001b[1;32mif\u001b[0m \u001b[0mbbox\u001b[0m\u001b[1;33m:\u001b[0m\u001b[1;33m\n",
      "\u001b[0m            \u001b[0mrequest\u001b[0m\u001b[1;33m[\u001b[0m\u001b[1;34m'BBox'\u001b[0m\u001b[1;33m]\u001b[0m \u001b[1;33m=\u001b[0m \u001b[1;34m','\u001b[0m\u001b[1;33m.\u001b[0m\u001b[0mjoin\u001b[0m\u001b[1;33m(\u001b[0m\u001b[1;33m[\u001b[0m\u001b[0mmakeString\u001b[0m\u001b[1;33m(\u001b[0m\u001b[0mx\u001b[0m\u001b[1;33m)\u001b[0m \u001b[1;32mfor\u001b[0m \u001b[0mx\u001b[0m \u001b[1;32min\u001b[0m \u001b[0mbbox\u001b[0m\u001b[1;33m]\u001b[0m\u001b[1;33m)\u001b[0m\u001b[1;33m\n",
      "\u001b[0m        \u001b[1;32melse\u001b[0m\u001b[1;33m:\u001b[0m\u001b[1;33m\n",
      "\u001b[0m            \u001b[0mrequest\u001b[0m\u001b[1;33m[\u001b[0m\u001b[1;34m'BBox'\u001b[0m\u001b[1;33m]\u001b[0m \u001b[1;33m=\u001b[0m \u001b[1;32mNone\u001b[0m\u001b[1;33m\n",
      "\u001b[0m        \u001b[1;32mif\u001b[0m \u001b[0mtime\u001b[0m\u001b[1;33m:\u001b[0m\u001b[1;33m\n",
      "\u001b[0m            \u001b[0mrequest\u001b[0m\u001b[1;33m[\u001b[0m\u001b[1;34m'time'\u001b[0m\u001b[1;33m]\u001b[0m \u001b[1;33m=\u001b[0m \u001b[1;34m','\u001b[0m\u001b[1;33m.\u001b[0m\u001b[0mjoin\u001b[0m\u001b[1;33m(\u001b[0m\u001b[0mtime\u001b[0m\u001b[1;33m)\u001b[0m\u001b[1;33m\n",
      "\u001b[0m        \u001b[1;32mif\u001b[0m \u001b[0mcrs\u001b[0m\u001b[1;33m:\u001b[0m\u001b[1;33m\n",
      "\u001b[0m            \u001b[0mrequest\u001b[0m\u001b[1;33m[\u001b[0m\u001b[1;34m'crs'\u001b[0m\u001b[1;33m]\u001b[0m \u001b[1;33m=\u001b[0m \u001b[0mcrs\u001b[0m\u001b[1;33m\n",
      "\u001b[0m        \u001b[0mrequest\u001b[0m\u001b[1;33m[\u001b[0m\u001b[1;34m'format'\u001b[0m\u001b[1;33m]\u001b[0m \u001b[1;33m=\u001b[0m \u001b[0mformat\u001b[0m\u001b[1;33m\n",
      "\u001b[0m        \u001b[1;32mif\u001b[0m \u001b[0mwidth\u001b[0m\u001b[1;33m:\u001b[0m\u001b[1;33m\n",
      "\u001b[0m            \u001b[0mrequest\u001b[0m\u001b[1;33m[\u001b[0m\u001b[1;34m'width'\u001b[0m\u001b[1;33m]\u001b[0m \u001b[1;33m=\u001b[0m \u001b[0mwidth\u001b[0m\u001b[1;33m\n",
      "\u001b[0m        \u001b[1;32mif\u001b[0m \u001b[0mheight\u001b[0m\u001b[1;33m:\u001b[0m\u001b[1;33m\n",
      "\u001b[0m            \u001b[0mrequest\u001b[0m\u001b[1;33m[\u001b[0m\u001b[1;34m'height'\u001b[0m\u001b[1;33m]\u001b[0m \u001b[1;33m=\u001b[0m \u001b[0mheight\u001b[0m\u001b[1;33m\n",
      "\u001b[0m        \u001b[1;32mif\u001b[0m \u001b[0mresx\u001b[0m\u001b[1;33m:\u001b[0m\u001b[1;33m\n",
      "\u001b[0m            \u001b[0mrequest\u001b[0m\u001b[1;33m[\u001b[0m\u001b[1;34m'resx'\u001b[0m\u001b[1;33m]\u001b[0m \u001b[1;33m=\u001b[0m \u001b[0mresx\u001b[0m\u001b[1;33m\n",
      "\u001b[0m        \u001b[1;32mif\u001b[0m \u001b[0mresy\u001b[0m\u001b[1;33m:\u001b[0m\u001b[1;33m\n",
      "\u001b[0m            \u001b[0mrequest\u001b[0m\u001b[1;33m[\u001b[0m\u001b[1;34m'resy'\u001b[0m\u001b[1;33m]\u001b[0m \u001b[1;33m=\u001b[0m \u001b[0mresy\u001b[0m\u001b[1;33m\n",
      "\u001b[0m        \u001b[1;32mif\u001b[0m \u001b[0mresz\u001b[0m\u001b[1;33m:\u001b[0m\u001b[1;33m\n",
      "\u001b[0m            \u001b[0mrequest\u001b[0m\u001b[1;33m[\u001b[0m\u001b[1;34m'resz'\u001b[0m\u001b[1;33m]\u001b[0m \u001b[1;33m=\u001b[0m \u001b[0mresz\u001b[0m\u001b[1;33m\n",
      "\u001b[0m\u001b[1;33m\n",
      "\u001b[0m        \u001b[1;31m# anything else e.g. vendor specific parameters must go through kwargs\u001b[0m\u001b[1;33m\n",
      "\u001b[0m        \u001b[1;32mif\u001b[0m \u001b[0mkwargs\u001b[0m\u001b[1;33m:\u001b[0m\u001b[1;33m\n",
      "\u001b[0m            \u001b[1;32mfor\u001b[0m \u001b[0mkw\u001b[0m \u001b[1;32min\u001b[0m \u001b[0mkwargs\u001b[0m\u001b[1;33m:\u001b[0m\u001b[1;33m\n",
      "\u001b[0m                \u001b[0mrequest\u001b[0m\u001b[1;33m[\u001b[0m\u001b[0mkw\u001b[0m\u001b[1;33m]\u001b[0m \u001b[1;33m=\u001b[0m \u001b[0mkwargs\u001b[0m\u001b[1;33m[\u001b[0m\u001b[0mkw\u001b[0m\u001b[1;33m]\u001b[0m\u001b[1;33m\n",
      "\u001b[0m\u001b[1;33m\n",
      "\u001b[0m        \u001b[1;31m# encode and request\u001b[0m\u001b[1;33m\n",
      "\u001b[0m        \u001b[0mdata\u001b[0m \u001b[1;33m=\u001b[0m \u001b[0murlencode\u001b[0m\u001b[1;33m(\u001b[0m\u001b[0mrequest\u001b[0m\u001b[1;33m)\u001b[0m\u001b[1;33m\n",
      "\u001b[0m        \u001b[0mlog\u001b[0m\u001b[1;33m.\u001b[0m\u001b[0mdebug\u001b[0m\u001b[1;33m(\u001b[0m\u001b[1;34m'WCS 1.0.0 DEBUG: Second part of URL: %s'\u001b[0m \u001b[1;33m%\u001b[0m \u001b[0mdata\u001b[0m\u001b[1;33m)\u001b[0m\u001b[1;33m\n",
      "\u001b[0m\u001b[1;33m\n",
      "\u001b[0m        \u001b[0mu\u001b[0m \u001b[1;33m=\u001b[0m \u001b[0mopenURL\u001b[0m\u001b[1;33m(\u001b[0m\u001b[0mbase_url\u001b[0m\u001b[1;33m,\u001b[0m \u001b[0mdata\u001b[0m\u001b[1;33m,\u001b[0m \u001b[0mmethod\u001b[0m\u001b[1;33m,\u001b[0m \u001b[0mself\u001b[0m\u001b[1;33m.\u001b[0m\u001b[0mcookies\u001b[0m\u001b[1;33m,\u001b[0m \u001b[0mauth\u001b[0m\u001b[1;33m=\u001b[0m\u001b[0mself\u001b[0m\u001b[1;33m.\u001b[0m\u001b[0mauth\u001b[0m\u001b[1;33m,\u001b[0m \u001b[0mtimeout\u001b[0m\u001b[1;33m=\u001b[0m\u001b[0mtimeout\u001b[0m\u001b[1;33m,\u001b[0m \u001b[0mheaders\u001b[0m\u001b[1;33m=\u001b[0m\u001b[0mself\u001b[0m\u001b[1;33m.\u001b[0m\u001b[0mheaders\u001b[0m\u001b[1;33m)\u001b[0m\u001b[1;33m\n",
      "\u001b[0m        \u001b[1;32mreturn\u001b[0m \u001b[0mu\u001b[0m\u001b[1;33m\u001b[0m\u001b[1;33m\u001b[0m\u001b[0m\n",
      "\u001b[1;31mFile:\u001b[0m      c:\\users\\matteo.mikos\\appdata\\local\\anaconda3\\envs\\ogc_workshop\\lib\\site-packages\\owslib\\coverage\\wcs100.py\n",
      "\u001b[1;31mType:\u001b[0m      method"
     ]
    }
   ],
   "source": [
    "wcs.getCoverage??"
   ]
  },
  {
   "cell_type": "markdown",
   "metadata": {},
   "source": [
    "#### Open rasterdata in an xarray object using the rasterio library"
   ]
  },
  {
   "cell_type": "code",
   "execution_count": 54,
   "metadata": {},
   "outputs": [
    {
     "data": {
      "text/html": [
       "<div><svg style=\"position: absolute; width: 0; height: 0; overflow: hidden\">\n",
       "<defs>\n",
       "<symbol id=\"icon-database\" viewBox=\"0 0 32 32\">\n",
       "<path d=\"M16 0c-8.837 0-16 2.239-16 5v4c0 2.761 7.163 5 16 5s16-2.239 16-5v-4c0-2.761-7.163-5-16-5z\"></path>\n",
       "<path d=\"M16 17c-8.837 0-16-2.239-16-5v6c0 2.761 7.163 5 16 5s16-2.239 16-5v-6c0 2.761-7.163 5-16 5z\"></path>\n",
       "<path d=\"M16 26c-8.837 0-16-2.239-16-5v6c0 2.761 7.163 5 16 5s16-2.239 16-5v-6c0 2.761-7.163 5-16 5z\"></path>\n",
       "</symbol>\n",
       "<symbol id=\"icon-file-text2\" viewBox=\"0 0 32 32\">\n",
       "<path d=\"M28.681 7.159c-0.694-0.947-1.662-2.053-2.724-3.116s-2.169-2.030-3.116-2.724c-1.612-1.182-2.393-1.319-2.841-1.319h-15.5c-1.378 0-2.5 1.121-2.5 2.5v27c0 1.378 1.122 2.5 2.5 2.5h23c1.378 0 2.5-1.122 2.5-2.5v-19.5c0-0.448-0.137-1.23-1.319-2.841zM24.543 5.457c0.959 0.959 1.712 1.825 2.268 2.543h-4.811v-4.811c0.718 0.556 1.584 1.309 2.543 2.268zM28 29.5c0 0.271-0.229 0.5-0.5 0.5h-23c-0.271 0-0.5-0.229-0.5-0.5v-27c0-0.271 0.229-0.5 0.5-0.5 0 0 15.499-0 15.5 0v7c0 0.552 0.448 1 1 1h7v19.5z\"></path>\n",
       "<path d=\"M23 26h-14c-0.552 0-1-0.448-1-1s0.448-1 1-1h14c0.552 0 1 0.448 1 1s-0.448 1-1 1z\"></path>\n",
       "<path d=\"M23 22h-14c-0.552 0-1-0.448-1-1s0.448-1 1-1h14c0.552 0 1 0.448 1 1s-0.448 1-1 1z\"></path>\n",
       "<path d=\"M23 18h-14c-0.552 0-1-0.448-1-1s0.448-1 1-1h14c0.552 0 1 0.448 1 1s-0.448 1-1 1z\"></path>\n",
       "</symbol>\n",
       "</defs>\n",
       "</svg>\n",
       "<style>/* CSS stylesheet for displaying xarray objects in jupyterlab.\n",
       " *\n",
       " */\n",
       "\n",
       ":root {\n",
       "  --xr-font-color0: var(--jp-content-font-color0, rgba(0, 0, 0, 1));\n",
       "  --xr-font-color2: var(--jp-content-font-color2, rgba(0, 0, 0, 0.54));\n",
       "  --xr-font-color3: var(--jp-content-font-color3, rgba(0, 0, 0, 0.38));\n",
       "  --xr-border-color: var(--jp-border-color2, #e0e0e0);\n",
       "  --xr-disabled-color: var(--jp-layout-color3, #bdbdbd);\n",
       "  --xr-background-color: var(--jp-layout-color0, white);\n",
       "  --xr-background-color-row-even: var(--jp-layout-color1, white);\n",
       "  --xr-background-color-row-odd: var(--jp-layout-color2, #eeeeee);\n",
       "}\n",
       "\n",
       "html[theme=dark],\n",
       "body[data-theme=dark],\n",
       "body.vscode-dark {\n",
       "  --xr-font-color0: rgba(255, 255, 255, 1);\n",
       "  --xr-font-color2: rgba(255, 255, 255, 0.54);\n",
       "  --xr-font-color3: rgba(255, 255, 255, 0.38);\n",
       "  --xr-border-color: #1F1F1F;\n",
       "  --xr-disabled-color: #515151;\n",
       "  --xr-background-color: #111111;\n",
       "  --xr-background-color-row-even: #111111;\n",
       "  --xr-background-color-row-odd: #313131;\n",
       "}\n",
       "\n",
       ".xr-wrap {\n",
       "  display: block !important;\n",
       "  min-width: 300px;\n",
       "  max-width: 700px;\n",
       "}\n",
       "\n",
       ".xr-text-repr-fallback {\n",
       "  /* fallback to plain text repr when CSS is not injected (untrusted notebook) */\n",
       "  display: none;\n",
       "}\n",
       "\n",
       ".xr-header {\n",
       "  padding-top: 6px;\n",
       "  padding-bottom: 6px;\n",
       "  margin-bottom: 4px;\n",
       "  border-bottom: solid 1px var(--xr-border-color);\n",
       "}\n",
       "\n",
       ".xr-header > div,\n",
       ".xr-header > ul {\n",
       "  display: inline;\n",
       "  margin-top: 0;\n",
       "  margin-bottom: 0;\n",
       "}\n",
       "\n",
       ".xr-obj-type,\n",
       ".xr-array-name {\n",
       "  margin-left: 2px;\n",
       "  margin-right: 10px;\n",
       "}\n",
       "\n",
       ".xr-obj-type {\n",
       "  color: var(--xr-font-color2);\n",
       "}\n",
       "\n",
       ".xr-sections {\n",
       "  padding-left: 0 !important;\n",
       "  display: grid;\n",
       "  grid-template-columns: 150px auto auto 1fr 20px 20px;\n",
       "}\n",
       "\n",
       ".xr-section-item {\n",
       "  display: contents;\n",
       "}\n",
       "\n",
       ".xr-section-item input {\n",
       "  display: none;\n",
       "}\n",
       "\n",
       ".xr-section-item input + label {\n",
       "  color: var(--xr-disabled-color);\n",
       "}\n",
       "\n",
       ".xr-section-item input:enabled + label {\n",
       "  cursor: pointer;\n",
       "  color: var(--xr-font-color2);\n",
       "}\n",
       "\n",
       ".xr-section-item input:enabled + label:hover {\n",
       "  color: var(--xr-font-color0);\n",
       "}\n",
       "\n",
       ".xr-section-summary {\n",
       "  grid-column: 1;\n",
       "  color: var(--xr-font-color2);\n",
       "  font-weight: 500;\n",
       "}\n",
       "\n",
       ".xr-section-summary > span {\n",
       "  display: inline-block;\n",
       "  padding-left: 0.5em;\n",
       "}\n",
       "\n",
       ".xr-section-summary-in:disabled + label {\n",
       "  color: var(--xr-font-color2);\n",
       "}\n",
       "\n",
       ".xr-section-summary-in + label:before {\n",
       "  display: inline-block;\n",
       "  content: '►';\n",
       "  font-size: 11px;\n",
       "  width: 15px;\n",
       "  text-align: center;\n",
       "}\n",
       "\n",
       ".xr-section-summary-in:disabled + label:before {\n",
       "  color: var(--xr-disabled-color);\n",
       "}\n",
       "\n",
       ".xr-section-summary-in:checked + label:before {\n",
       "  content: '▼';\n",
       "}\n",
       "\n",
       ".xr-section-summary-in:checked + label > span {\n",
       "  display: none;\n",
       "}\n",
       "\n",
       ".xr-section-summary,\n",
       ".xr-section-inline-details {\n",
       "  padding-top: 4px;\n",
       "  padding-bottom: 4px;\n",
       "}\n",
       "\n",
       ".xr-section-inline-details {\n",
       "  grid-column: 2 / -1;\n",
       "}\n",
       "\n",
       ".xr-section-details {\n",
       "  display: none;\n",
       "  grid-column: 1 / -1;\n",
       "  margin-bottom: 5px;\n",
       "}\n",
       "\n",
       ".xr-section-summary-in:checked ~ .xr-section-details {\n",
       "  display: contents;\n",
       "}\n",
       "\n",
       ".xr-array-wrap {\n",
       "  grid-column: 1 / -1;\n",
       "  display: grid;\n",
       "  grid-template-columns: 20px auto;\n",
       "}\n",
       "\n",
       ".xr-array-wrap > label {\n",
       "  grid-column: 1;\n",
       "  vertical-align: top;\n",
       "}\n",
       "\n",
       ".xr-preview {\n",
       "  color: var(--xr-font-color3);\n",
       "}\n",
       "\n",
       ".xr-array-preview,\n",
       ".xr-array-data {\n",
       "  padding: 0 5px !important;\n",
       "  grid-column: 2;\n",
       "}\n",
       "\n",
       ".xr-array-data,\n",
       ".xr-array-in:checked ~ .xr-array-preview {\n",
       "  display: none;\n",
       "}\n",
       "\n",
       ".xr-array-in:checked ~ .xr-array-data,\n",
       ".xr-array-preview {\n",
       "  display: inline-block;\n",
       "}\n",
       "\n",
       ".xr-dim-list {\n",
       "  display: inline-block !important;\n",
       "  list-style: none;\n",
       "  padding: 0 !important;\n",
       "  margin: 0;\n",
       "}\n",
       "\n",
       ".xr-dim-list li {\n",
       "  display: inline-block;\n",
       "  padding: 0;\n",
       "  margin: 0;\n",
       "}\n",
       "\n",
       ".xr-dim-list:before {\n",
       "  content: '(';\n",
       "}\n",
       "\n",
       ".xr-dim-list:after {\n",
       "  content: ')';\n",
       "}\n",
       "\n",
       ".xr-dim-list li:not(:last-child):after {\n",
       "  content: ',';\n",
       "  padding-right: 5px;\n",
       "}\n",
       "\n",
       ".xr-has-index {\n",
       "  font-weight: bold;\n",
       "}\n",
       "\n",
       ".xr-var-list,\n",
       ".xr-var-item {\n",
       "  display: contents;\n",
       "}\n",
       "\n",
       ".xr-var-item > div,\n",
       ".xr-var-item label,\n",
       ".xr-var-item > .xr-var-name span {\n",
       "  background-color: var(--xr-background-color-row-even);\n",
       "  margin-bottom: 0;\n",
       "}\n",
       "\n",
       ".xr-var-item > .xr-var-name:hover span {\n",
       "  padding-right: 5px;\n",
       "}\n",
       "\n",
       ".xr-var-list > li:nth-child(odd) > div,\n",
       ".xr-var-list > li:nth-child(odd) > label,\n",
       ".xr-var-list > li:nth-child(odd) > .xr-var-name span {\n",
       "  background-color: var(--xr-background-color-row-odd);\n",
       "}\n",
       "\n",
       ".xr-var-name {\n",
       "  grid-column: 1;\n",
       "}\n",
       "\n",
       ".xr-var-dims {\n",
       "  grid-column: 2;\n",
       "}\n",
       "\n",
       ".xr-var-dtype {\n",
       "  grid-column: 3;\n",
       "  text-align: right;\n",
       "  color: var(--xr-font-color2);\n",
       "}\n",
       "\n",
       ".xr-var-preview {\n",
       "  grid-column: 4;\n",
       "}\n",
       "\n",
       ".xr-index-preview {\n",
       "  grid-column: 2 / 5;\n",
       "  color: var(--xr-font-color2);\n",
       "}\n",
       "\n",
       ".xr-var-name,\n",
       ".xr-var-dims,\n",
       ".xr-var-dtype,\n",
       ".xr-preview,\n",
       ".xr-attrs dt {\n",
       "  white-space: nowrap;\n",
       "  overflow: hidden;\n",
       "  text-overflow: ellipsis;\n",
       "  padding-right: 10px;\n",
       "}\n",
       "\n",
       ".xr-var-name:hover,\n",
       ".xr-var-dims:hover,\n",
       ".xr-var-dtype:hover,\n",
       ".xr-attrs dt:hover {\n",
       "  overflow: visible;\n",
       "  width: auto;\n",
       "  z-index: 1;\n",
       "}\n",
       "\n",
       ".xr-var-attrs,\n",
       ".xr-var-data,\n",
       ".xr-index-data {\n",
       "  display: none;\n",
       "  background-color: var(--xr-background-color) !important;\n",
       "  padding-bottom: 5px !important;\n",
       "}\n",
       "\n",
       ".xr-var-attrs-in:checked ~ .xr-var-attrs,\n",
       ".xr-var-data-in:checked ~ .xr-var-data,\n",
       ".xr-index-data-in:checked ~ .xr-index-data {\n",
       "  display: block;\n",
       "}\n",
       "\n",
       ".xr-var-data > table {\n",
       "  float: right;\n",
       "}\n",
       "\n",
       ".xr-var-name span,\n",
       ".xr-var-data,\n",
       ".xr-index-name div,\n",
       ".xr-index-data,\n",
       ".xr-attrs {\n",
       "  padding-left: 25px !important;\n",
       "}\n",
       "\n",
       ".xr-attrs,\n",
       ".xr-var-attrs,\n",
       ".xr-var-data,\n",
       ".xr-index-data {\n",
       "  grid-column: 1 / -1;\n",
       "}\n",
       "\n",
       "dl.xr-attrs {\n",
       "  padding: 0;\n",
       "  margin: 0;\n",
       "  display: grid;\n",
       "  grid-template-columns: 125px auto;\n",
       "}\n",
       "\n",
       ".xr-attrs dt,\n",
       ".xr-attrs dd {\n",
       "  padding: 0;\n",
       "  margin: 0;\n",
       "  float: left;\n",
       "  padding-right: 10px;\n",
       "  width: auto;\n",
       "}\n",
       "\n",
       ".xr-attrs dt {\n",
       "  font-weight: normal;\n",
       "  grid-column: 1;\n",
       "}\n",
       "\n",
       ".xr-attrs dt:hover span {\n",
       "  display: inline-block;\n",
       "  background: var(--xr-background-color);\n",
       "  padding-right: 10px;\n",
       "}\n",
       "\n",
       ".xr-attrs dd {\n",
       "  grid-column: 2;\n",
       "  white-space: pre-wrap;\n",
       "  word-break: break-all;\n",
       "}\n",
       "\n",
       ".xr-icon-database,\n",
       ".xr-icon-file-text2,\n",
       ".xr-no-icon {\n",
       "  display: inline-block;\n",
       "  vertical-align: middle;\n",
       "  width: 1em;\n",
       "  height: 1.5em !important;\n",
       "  stroke-width: 0;\n",
       "  stroke: currentColor;\n",
       "  fill: currentColor;\n",
       "}\n",
       "</style><pre class='xr-text-repr-fallback'>&lt;xarray.DataArray (band: 1, y: 23, x: 59)&gt;\n",
       "[1357 values with dtype=float32]\n",
       "Coordinates:\n",
       "  * band         (band) int32 1\n",
       "  * x            (x) float64 -6.758 -6.75 -6.741 -6.733 ... -6.293 -6.285 -6.276\n",
       "  * y            (y) float64 58.5 58.5 58.49 58.48 ... 58.34 58.33 58.33 58.32\n",
       "    spatial_ref  int32 0\n",
       "Attributes:\n",
       "    AREA_OR_POINT:           Area\n",
       "    TIFFTAG_RESOLUTIONUNIT:  1 (unitless)\n",
       "    TIFFTAG_XRESOLUTION:     1\n",
       "    TIFFTAG_YRESOLUTION:     1\n",
       "    scale_factor:            1.0\n",
       "    add_offset:              0.0</pre><div class='xr-wrap' style='display:none'><div class='xr-header'><div class='xr-obj-type'>xarray.DataArray</div><div class='xr-array-name'></div><ul class='xr-dim-list'><li><span class='xr-has-index'>band</span>: 1</li><li><span class='xr-has-index'>y</span>: 23</li><li><span class='xr-has-index'>x</span>: 59</li></ul></div><ul class='xr-sections'><li class='xr-section-item'><div class='xr-array-wrap'><input id='section-bda3ab7e-4cc1-4eec-969f-58f41e65ab36' class='xr-array-in' type='checkbox' checked><label for='section-bda3ab7e-4cc1-4eec-969f-58f41e65ab36' title='Show/hide data repr'><svg class='icon xr-icon-database'><use xlink:href='#icon-database'></use></svg></label><div class='xr-array-preview xr-preview'><span>...</span></div><div class='xr-array-data'><pre>[1357 values with dtype=float32]</pre></div></div></li><li class='xr-section-item'><input id='section-04150f7e-e2ea-4347-890c-c09b241e9611' class='xr-section-summary-in' type='checkbox'  checked><label for='section-04150f7e-e2ea-4347-890c-c09b241e9611' class='xr-section-summary' >Coordinates: <span>(4)</span></label><div class='xr-section-inline-details'></div><div class='xr-section-details'><ul class='xr-var-list'><li class='xr-var-item'><div class='xr-var-name'><span class='xr-has-index'>band</span></div><div class='xr-var-dims'>(band)</div><div class='xr-var-dtype'>int32</div><div class='xr-var-preview xr-preview'>1</div><input id='attrs-a244e218-644f-45b0-b8b8-876facea3e26' class='xr-var-attrs-in' type='checkbox' disabled><label for='attrs-a244e218-644f-45b0-b8b8-876facea3e26' title='Show/Hide attributes'><svg class='icon xr-icon-file-text2'><use xlink:href='#icon-file-text2'></use></svg></label><input id='data-14a9f734-3b29-436d-b1d9-78b32df041ca' class='xr-var-data-in' type='checkbox'><label for='data-14a9f734-3b29-436d-b1d9-78b32df041ca' title='Show/Hide data repr'><svg class='icon xr-icon-database'><use xlink:href='#icon-database'></use></svg></label><div class='xr-var-attrs'><dl class='xr-attrs'></dl></div><div class='xr-var-data'><pre>array([1])</pre></div></li><li class='xr-var-item'><div class='xr-var-name'><span class='xr-has-index'>x</span></div><div class='xr-var-dims'>(x)</div><div class='xr-var-dtype'>float64</div><div class='xr-var-preview xr-preview'>-6.758 -6.75 ... -6.285 -6.276</div><input id='attrs-c373bb82-fac6-4e0f-85e9-4eba7e6e222a' class='xr-var-attrs-in' type='checkbox' disabled><label for='attrs-c373bb82-fac6-4e0f-85e9-4eba7e6e222a' title='Show/Hide attributes'><svg class='icon xr-icon-file-text2'><use xlink:href='#icon-file-text2'></use></svg></label><input id='data-20c00bde-f863-420d-b38b-5fad6ec250ad' class='xr-var-data-in' type='checkbox'><label for='data-20c00bde-f863-420d-b38b-5fad6ec250ad' title='Show/Hide data repr'><svg class='icon xr-icon-database'><use xlink:href='#icon-database'></use></svg></label><div class='xr-var-attrs'><dl class='xr-attrs'></dl></div><div class='xr-var-data'><pre>array([-6.757806, -6.749505, -6.741204, -6.732904, -6.724603, -6.716302,\n",
       "       -6.708002, -6.699701, -6.6914  , -6.683099, -6.674799, -6.666498,\n",
       "       -6.658197, -6.649896, -6.641596, -6.633295, -6.624994, -6.616693,\n",
       "       -6.608393, -6.600092, -6.591791, -6.58349 , -6.57519 , -6.566889,\n",
       "       -6.558588, -6.550288, -6.541987, -6.533686, -6.525385, -6.517085,\n",
       "       -6.508784, -6.500483, -6.492182, -6.483882, -6.475581, -6.46728 ,\n",
       "       -6.458979, -6.450679, -6.442378, -6.434077, -6.425776, -6.417476,\n",
       "       -6.409175, -6.400874, -6.392574, -6.384273, -6.375972, -6.367671,\n",
       "       -6.359371, -6.35107 , -6.342769, -6.334468, -6.326168, -6.317867,\n",
       "       -6.309566, -6.301265, -6.292965, -6.284664, -6.276363])</pre></div></li><li class='xr-var-item'><div class='xr-var-name'><span class='xr-has-index'>y</span></div><div class='xr-var-dims'>(y)</div><div class='xr-var-dtype'>float64</div><div class='xr-var-preview xr-preview'>58.5 58.5 58.49 ... 58.33 58.32</div><input id='attrs-38a8a5ab-15be-4c34-a382-87b325eb5244' class='xr-var-attrs-in' type='checkbox' disabled><label for='attrs-38a8a5ab-15be-4c34-a382-87b325eb5244' title='Show/Hide attributes'><svg class='icon xr-icon-file-text2'><use xlink:href='#icon-file-text2'></use></svg></label><input id='data-e1f0bcff-5bd7-4649-99c0-b051fb50688b' class='xr-var-data-in' type='checkbox'><label for='data-e1f0bcff-5bd7-4649-99c0-b051fb50688b' title='Show/Hide data repr'><svg class='icon xr-icon-database'><use xlink:href='#icon-database'></use></svg></label><div class='xr-var-attrs'><dl class='xr-attrs'></dl></div><div class='xr-var-data'><pre>array([58.504165, 58.49569 , 58.487214, 58.478739, 58.470263, 58.461788,\n",
       "       58.453312, 58.444837, 58.436362, 58.427886, 58.419411, 58.410935,\n",
       "       58.40246 , 58.393984, 58.385509, 58.377034, 58.368558, 58.360083,\n",
       "       58.351607, 58.343132, 58.334656, 58.326181, 58.317706])</pre></div></li><li class='xr-var-item'><div class='xr-var-name'><span>spatial_ref</span></div><div class='xr-var-dims'>()</div><div class='xr-var-dtype'>int32</div><div class='xr-var-preview xr-preview'>0</div><input id='attrs-9f4857d3-2653-4977-978a-bc8f9de00f97' class='xr-var-attrs-in' type='checkbox' ><label for='attrs-9f4857d3-2653-4977-978a-bc8f9de00f97' title='Show/Hide attributes'><svg class='icon xr-icon-file-text2'><use xlink:href='#icon-file-text2'></use></svg></label><input id='data-916a1b03-6d37-449c-9614-c4175e6bced3' class='xr-var-data-in' type='checkbox'><label for='data-916a1b03-6d37-449c-9614-c4175e6bced3' title='Show/Hide data repr'><svg class='icon xr-icon-database'><use xlink:href='#icon-database'></use></svg></label><div class='xr-var-attrs'><dl class='xr-attrs'><dt><span>crs_wkt :</span></dt><dd>GEOGCS[&quot;WGS 84&quot;,DATUM[&quot;WGS_1984&quot;,SPHEROID[&quot;WGS 84&quot;,6378137,298.257223563,AUTHORITY[&quot;EPSG&quot;,&quot;7030&quot;]],AUTHORITY[&quot;EPSG&quot;,&quot;6326&quot;]],PRIMEM[&quot;Greenwich&quot;,0,AUTHORITY[&quot;EPSG&quot;,&quot;8901&quot;]],UNIT[&quot;degree&quot;,0.0174532925199433,AUTHORITY[&quot;EPSG&quot;,&quot;9122&quot;]],AXIS[&quot;Latitude&quot;,NORTH],AXIS[&quot;Longitude&quot;,EAST],AUTHORITY[&quot;EPSG&quot;,&quot;4326&quot;]]</dd><dt><span>semi_major_axis :</span></dt><dd>6378137.0</dd><dt><span>semi_minor_axis :</span></dt><dd>6356752.314245179</dd><dt><span>inverse_flattening :</span></dt><dd>298.257223563</dd><dt><span>reference_ellipsoid_name :</span></dt><dd>WGS 84</dd><dt><span>longitude_of_prime_meridian :</span></dt><dd>0.0</dd><dt><span>prime_meridian_name :</span></dt><dd>Greenwich</dd><dt><span>geographic_crs_name :</span></dt><dd>WGS 84</dd><dt><span>horizontal_datum_name :</span></dt><dd>World Geodetic System 1984</dd><dt><span>grid_mapping_name :</span></dt><dd>latitude_longitude</dd><dt><span>spatial_ref :</span></dt><dd>GEOGCS[&quot;WGS 84&quot;,DATUM[&quot;WGS_1984&quot;,SPHEROID[&quot;WGS 84&quot;,6378137,298.257223563,AUTHORITY[&quot;EPSG&quot;,&quot;7030&quot;]],AUTHORITY[&quot;EPSG&quot;,&quot;6326&quot;]],PRIMEM[&quot;Greenwich&quot;,0,AUTHORITY[&quot;EPSG&quot;,&quot;8901&quot;]],UNIT[&quot;degree&quot;,0.0174532925199433,AUTHORITY[&quot;EPSG&quot;,&quot;9122&quot;]],AXIS[&quot;Latitude&quot;,NORTH],AXIS[&quot;Longitude&quot;,EAST],AUTHORITY[&quot;EPSG&quot;,&quot;4326&quot;]]</dd><dt><span>GeoTransform :</span></dt><dd>-6.76195629 0.008300735762711859 0.0 58.50840273 0.0 -0.008475430869565252</dd></dl></div><div class='xr-var-data'><pre>array(0)</pre></div></li></ul></div></li><li class='xr-section-item'><input id='section-a0704214-fa2d-4c3d-8544-58976c718b0a' class='xr-section-summary-in' type='checkbox'  ><label for='section-a0704214-fa2d-4c3d-8544-58976c718b0a' class='xr-section-summary' >Indexes: <span>(3)</span></label><div class='xr-section-inline-details'></div><div class='xr-section-details'><ul class='xr-var-list'><li class='xr-var-item'><div class='xr-index-name'><div>band</div></div><div class='xr-index-preview'>PandasIndex</div><div></div><input id='index-6d4f4346-aff9-4939-b87e-28d3122a43a6' class='xr-index-data-in' type='checkbox'/><label for='index-6d4f4346-aff9-4939-b87e-28d3122a43a6' title='Show/Hide index repr'><svg class='icon xr-icon-database'><use xlink:href='#icon-database'></use></svg></label><div class='xr-index-data'><pre>PandasIndex(Index([1], dtype=&#x27;int32&#x27;, name=&#x27;band&#x27;))</pre></div></li><li class='xr-var-item'><div class='xr-index-name'><div>x</div></div><div class='xr-index-preview'>PandasIndex</div><div></div><input id='index-c2dc28e8-a7bd-4a08-8b9b-828cbf6dbee3' class='xr-index-data-in' type='checkbox'/><label for='index-c2dc28e8-a7bd-4a08-8b9b-828cbf6dbee3' title='Show/Hide index repr'><svg class='icon xr-icon-database'><use xlink:href='#icon-database'></use></svg></label><div class='xr-index-data'><pre>PandasIndex(Index([ -6.757805922118644,  -6.749505186355932,   -6.74120445059322,\n",
       "        -6.732903714830508,  -6.724602979067797,  -6.716302243305084,\n",
       "        -6.708001507542373,  -6.699700771779661,  -6.691400036016949,\n",
       "        -6.683099300254237, -6.6747985644915255,  -6.666497828728813,\n",
       "        -6.658197092966102,   -6.64989635720339,  -6.641595621440678,\n",
       "        -6.633294885677966, -6.6249941499152545,  -6.616693414152542,\n",
       "        -6.608392678389831, -6.6000919426271185,  -6.591791206864407,\n",
       "        -6.583490471101695,  -6.575189735338983,  -6.566888999576271,\n",
       "         -6.55858826381356, -6.5502875280508475,  -6.541986792288135,\n",
       "        -6.533686056525424, -6.5253853207627115,        -6.517084585,\n",
       "        -6.508783849237288,  -6.500483113474576,  -6.492182377711864,\n",
       "        -6.483881641949153, -6.4755809061864404,  -6.467280170423729,\n",
       "        -6.458979434661017,  -6.450678698898305,  -6.442377963135593,\n",
       "        -6.434077227372882,  -6.425776491610169,  -6.417475755847458,\n",
       "        -6.409175020084746,  -6.400874284322034,  -6.392573548559322,\n",
       "        -6.384272812796611,  -6.375972077033898,  -6.367671341271187,\n",
       "        -6.359370605508475,  -6.351069869745763,  -6.342769133983051,\n",
       "         -6.33446839822034,  -6.326167662457627,  -6.317866926694915,\n",
       "        -6.309566190932204,  -6.301265455169491,   -6.29296471940678,\n",
       "        -6.284663983644068,  -6.276363247881356],\n",
       "      dtype=&#x27;float64&#x27;, name=&#x27;x&#x27;))</pre></div></li><li class='xr-var-item'><div class='xr-index-name'><div>y</div></div><div class='xr-index-preview'>PandasIndex</div><div></div><input id='index-2ce4285b-1272-4be7-a92c-4c7cbeaa57af' class='xr-index-data-in' type='checkbox'/><label for='index-2ce4285b-1272-4be7-a92c-4c7cbeaa57af' title='Show/Hide index repr'><svg class='icon xr-icon-database'><use xlink:href='#icon-database'></use></svg></label><div class='xr-index-data'><pre>PandasIndex(Index([ 58.50416501456522,  58.49568958369565, 58.487214152826084,\n",
       "       58.478738721956525,  58.47026329108696,  58.46178786021739,\n",
       "       58.453312429347825,  58.44483699847826,  58.43636156760869,\n",
       "        58.42788613673913, 58.419410705869566,       58.410935275,\n",
       "        58.40245984413043,  58.39398441326087,   58.3855089823913,\n",
       "        58.37703355152174, 58.368558120652175,  58.36008268978261,\n",
       "        58.35160725891304, 58.343131828043475,  58.33465639717391,\n",
       "        58.32618096630435,  58.31770553543478],\n",
       "      dtype=&#x27;float64&#x27;, name=&#x27;y&#x27;))</pre></div></li></ul></div></li><li class='xr-section-item'><input id='section-1bfee0d1-4f39-4978-aaed-9e67bc685bac' class='xr-section-summary-in' type='checkbox'  checked><label for='section-1bfee0d1-4f39-4978-aaed-9e67bc685bac' class='xr-section-summary' >Attributes: <span>(6)</span></label><div class='xr-section-inline-details'></div><div class='xr-section-details'><dl class='xr-attrs'><dt><span>AREA_OR_POINT :</span></dt><dd>Area</dd><dt><span>TIFFTAG_RESOLUTIONUNIT :</span></dt><dd>1 (unitless)</dd><dt><span>TIFFTAG_XRESOLUTION :</span></dt><dd>1</dd><dt><span>TIFFTAG_YRESOLUTION :</span></dt><dd>1</dd><dt><span>scale_factor :</span></dt><dd>1.0</dd><dt><span>add_offset :</span></dt><dd>0.0</dd></dl></div></li></ul></div></div>"
      ],
      "text/plain": [
       "<xarray.DataArray (band: 1, y: 23, x: 59)>\n",
       "[1357 values with dtype=float32]\n",
       "Coordinates:\n",
       "  * band         (band) int32 1\n",
       "  * x            (x) float64 -6.758 -6.75 -6.741 -6.733 ... -6.293 -6.285 -6.276\n",
       "  * y            (y) float64 58.5 58.5 58.49 58.48 ... 58.34 58.33 58.33 58.32\n",
       "    spatial_ref  int32 0\n",
       "Attributes:\n",
       "    AREA_OR_POINT:           Area\n",
       "    TIFFTAG_RESOLUTIONUNIT:  1 (unitless)\n",
       "    TIFFTAG_XRESOLUTION:     1\n",
       "    TIFFTAG_YRESOLUTION:     1\n",
       "    scale_factor:            1.0\n",
       "    add_offset:              0.0"
      ]
     },
     "execution_count": 54,
     "metadata": {},
     "output_type": "execute_result"
    }
   ],
   "source": [
    "import rioxarray\n",
    "rasterdata = rioxarray.open_rasterio(f'data/{dataset.replace(\":\",\"_\")}.tif')\n",
    "rasterdata"
   ]
  },
  {
   "cell_type": "code",
   "execution_count": 57,
   "metadata": {},
   "outputs": [
    {
     "data": {
      "text/plain": [
       "{'AREA_OR_POINT': 'Area',\n",
       " 'TIFFTAG_RESOLUTIONUNIT': '1 (unitless)',\n",
       " 'TIFFTAG_XRESOLUTION': 1,\n",
       " 'TIFFTAG_YRESOLUTION': 1,\n",
       " 'scale_factor': 1.0,\n",
       " 'add_offset': 0.0}"
      ]
     },
     "execution_count": 57,
     "metadata": {},
     "output_type": "execute_result"
    }
   ],
   "source": [
    "rasterdata.attrs\n"
   ]
  },
  {
   "cell_type": "markdown",
   "metadata": {},
   "source": [
    "#### Plot a map of the rasterdata overlaid with the study area"
   ]
  },
  {
   "cell_type": "code",
   "execution_count": 58,
   "metadata": {},
   "outputs": [
    {
     "ename": "NameError",
     "evalue": "name 'masked_rasterdata' is not defined",
     "output_type": "error",
     "traceback": [
      "\u001b[1;31m---------------------------------------------------------------------------\u001b[0m",
      "\u001b[1;31mNameError\u001b[0m                                 Traceback (most recent call last)",
      "\u001b[1;32mc:\\Users\\matteo.mikos\\Desktop\\OGC_webservices_workshop-master\\3_subset_and_download_data_with_WFS&WCS.ipynb Cell 50\u001b[0m line \u001b[0;36m5\n\u001b[0;32m      <a href='vscode-notebook-cell:/c%3A/Users/matteo.mikos/Desktop/OGC_webservices_workshop-master/3_subset_and_download_data_with_WFS%26WCS.ipynb#X66sZmlsZQ%3D%3D?line=2'>3</a>\u001b[0m fig \u001b[39m=\u001b[39m plt\u001b[39m.\u001b[39mfigure(figsize\u001b[39m=\u001b[39m(\u001b[39m16\u001b[39m,\u001b[39m8\u001b[39m))\n\u001b[0;32m      <a href='vscode-notebook-cell:/c%3A/Users/matteo.mikos/Desktop/OGC_webservices_workshop-master/3_subset_and_download_data_with_WFS%26WCS.ipynb#X66sZmlsZQ%3D%3D?line=3'>4</a>\u001b[0m ax \u001b[39m=\u001b[39m fig\u001b[39m.\u001b[39madd_subplot(\u001b[39m111\u001b[39m)\n\u001b[1;32m----> <a href='vscode-notebook-cell:/c%3A/Users/matteo.mikos/Desktop/OGC_webservices_workshop-master/3_subset_and_download_data_with_WFS%26WCS.ipynb#X66sZmlsZQ%3D%3D?line=4'>5</a>\u001b[0m masked_rasterdata\u001b[39m.\u001b[39mplot(ax \u001b[39m=\u001b[39m ax,cbar_kwargs\u001b[39m=\u001b[39m{\u001b[39m'\u001b[39m\u001b[39morientation\u001b[39m\u001b[39m'\u001b[39m: \u001b[39m'\u001b[39m\u001b[39mhorizontal\u001b[39m\u001b[39m'\u001b[39m,\u001b[39m'\u001b[39m\u001b[39mlabel\u001b[39m\u001b[39m'\u001b[39m:\u001b[39m'\u001b[39m\u001b[39mHabitat Suitability Index\u001b[39m\u001b[39m'\u001b[39m} ) \u001b[39m# plot raster data\u001b[39;00m\n\u001b[0;32m      <a href='vscode-notebook-cell:/c%3A/Users/matteo.mikos/Desktop/OGC_webservices_workshop-master/3_subset_and_download_data_with_WFS%26WCS.ipynb#X66sZmlsZQ%3D%3D?line=5'>6</a>\u001b[0m study_area\u001b[39m.\u001b[39mboundary\u001b[39m.\u001b[39mplot(ax\u001b[39m=\u001b[39max, color\u001b[39m=\u001b[39m\u001b[39mNone\u001b[39;00m, edgecolor \u001b[39m=\u001b[39m \u001b[39m'\u001b[39m\u001b[39mred\u001b[39m\u001b[39m'\u001b[39m, label \u001b[39m=\u001b[39m \u001b[39m'\u001b[39m\u001b[39mStudy Area\u001b[39m\u001b[39m'\u001b[39m) \u001b[39m# plot study areas\u001b[39;00m\n\u001b[0;32m      <a href='vscode-notebook-cell:/c%3A/Users/matteo.mikos/Desktop/OGC_webservices_workshop-master/3_subset_and_download_data_with_WFS%26WCS.ipynb#X66sZmlsZQ%3D%3D?line=6'>7</a>\u001b[0m ax\u001b[39m.\u001b[39mlegend()\n",
      "\u001b[1;31mNameError\u001b[0m: name 'masked_rasterdata' is not defined"
     ]
    },
    {
     "data": {
      "image/png": "[encoded data removed]",
      "text/plain": [
       "<Figure size 1600x800 with 1 Axes>"
      ]
     },
     "metadata": {},
     "output_type": "display_data"
    }
   ],
   "source": [
    "# mask with the nodata value\n",
    "#masked_rasterdata = rasterdata.where(rasterdata != rasterdata._FillValue)\n",
    "fig = plt.figure(figsize=(16,8))\n",
    "ax = fig.add_subplot(111)\n",
    "masked_rasterdata.plot(ax = ax,cbar_kwargs={'orientation': 'horizontal','label':'Habitat Suitability Index'} ) # plot raster data\n",
    "study_area.boundary.plot(ax=ax, color=None, edgecolor = 'red', label = 'Study Area') # plot study areas\n",
    "ax.legend()\n",
    "ax.set_title('Lophelia pertusa Habitat suitability in the study area')"
   ]
  },
  {
   "cell_type": "markdown",
   "metadata": {},
   "source": [
    "### [>> Next: Use OGC services from common GIS software](./4_OGC_services_from_common_GIS_software.ipynb)"
   ]
  },
  {
   "cell_type": "markdown",
   "metadata": {},
   "source": [
    "<hr>"
   ]
  },
  {
   "cell_type": "markdown",
   "metadata": {},
   "source": [
    "<a rel=\"license\" href=\"http://creativecommons.org/licenses/by/4.0/\"><img style=\"float: right\" alt=\"Creative Commons Lizenzvertrag\" style=\"border-width:0\" src=\"https://i.creativecommons.org/l/by/4.0/88x31.png\" /></a>"
   ]
  }
 ],
 "metadata": {
  "kernelspec": {
   "display_name": "Python 3.8.2 ('ogc_workshop')",
   "language": "python",
   "name": "python3"
  },
  "language_info": {
   "codemirror_mode": {
    "name": "ipython",
    "version": 3
   },
   "file_extension": ".py",
   "mimetype": "text/x-python",
   "name": "python",
   "nbconvert_exporter": "python",
   "pygments_lexer": "ipython3",
   "version": "3.11.5"
  },
  "vscode": {
   "interpreter": {
    "hash": "eff9972986547b43e8de2d0d9f5b6451d0fad2027d94a3b8017c28da4e1a2a89"
   }
  }
 },
 "nbformat": 4,
 "nbformat_minor": 2
}
