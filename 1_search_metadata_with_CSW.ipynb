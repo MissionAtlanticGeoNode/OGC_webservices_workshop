{
 "cells": [
  {
   "cell_type": "markdown",
   "metadata": {},
   "source": [
    "<img src=\"./img/Logo.webp\" align=\"right\" width=\"50%\"></img>\n",
    "# MissionAtlantic GeoNode Workshop\n",
    "### Tier 2: How to use OGC webservices offered by the MissionAtlantic GeoNode in your data analysis"
   ]
  },
  {
   "cell_type": "markdown",
   "metadata": {},
   "source": [
    "## 1. Search through metadata using the OGC Catalogue Service (CSW)"
   ]
  },
  {
   "cell_type": "markdown",
   "metadata": {},
   "source": [
    "The OWSLib library is a python library that allows for accessing data and metadata through OGC services. The library abstracts all of the traditional HTTP API calls into programmatic function calls. We will be using this library throughout the tutorial to interact with the MissionAtlantic GeoNode OGC services.\n",
    "\n",
    "The library is available from GitHub @  https://github.com/geopython/OWSLib"
   ]
  },
  {
   "cell_type": "code",
   "execution_count": 2,
   "metadata": {},
   "outputs": [],
   "source": [
    "from owslib.csw import CatalogueServiceWeb"
   ]
  },
  {
   "cell_type": "markdown",
   "metadata": {},
   "source": [
    "#### Create a CatalogueServiceWeb object"
   ]
  },
  {
   "cell_type": "code",
   "execution_count": 3,
   "metadata": {},
   "outputs": [],
   "source": [
    "csw = CatalogueServiceWeb('https://geonode.missionatlantic.eu/catalogue/csw')"
   ]
  },
  {
   "cell_type": "markdown",
   "metadata": {},
   "source": [
    "#### Inspect its properties using print()"
   ]
  },
  {
   "cell_type": "code",
   "execution_count": 4,
   "metadata": {},
   "outputs": [
    {
     "name": "stdout",
     "output_type": "stream",
     "text": [
      "CSW\n",
      "GeoNode Catalogue\n",
      "2.0.2\n",
      "['GetCapabilities', 'DescribeRecord', 'GetDomain', 'GetRecords', 'GetRecordById', 'GetRepositoryItem']\n"
     ]
    }
   ],
   "source": [
    "print(csw.identification.type)\n",
    "print(csw.identification.title)\n",
    "print(csw.identification.version)\n",
    "print([op.name for op in csw.operations])"
   ]
  },
  {
   "cell_type": "markdown",
   "metadata": {},
   "source": [
    "#### Inspect the supported GetDomain parameters"
   ]
  },
  {
   "cell_type": "code",
   "execution_count": 5,
   "metadata": {},
   "outputs": [
    {
     "data": {
      "text/plain": [
       "{'ParameterName': {'values': ['DescribeRecord.outputFormat',\n",
       "   'DescribeRecord.schemaLanguage',\n",
       "   'DescribeRecord.typeName',\n",
       "   'GetCapabilities.sections',\n",
       "   'GetRecordById.ElementSetName',\n",
       "   'GetRecordById.outputFormat',\n",
       "   'GetRecordById.outputSchema',\n",
       "   'GetRecords.CONSTRAINTLANGUAGE',\n",
       "   'GetRecords.ElementSetName',\n",
       "   'GetRecords.outputFormat',\n",
       "   'GetRecords.outputSchema',\n",
       "   'GetRecords.resultType',\n",
       "   'GetRecords.typeNames']}}"
      ]
     },
     "execution_count": 5,
     "metadata": {},
     "output_type": "execute_result"
    }
   ],
   "source": [
    "csw.get_operation_by_name(\"GetDomain\").parameters"
   ]
  },
  {
   "cell_type": "markdown",
   "metadata": {},
   "source": [
    "#### Get supported constraint languages"
   ]
  },
  {
   "cell_type": "code",
   "execution_count": 6,
   "metadata": {},
   "outputs": [
    {
     "data": {
      "text/plain": [
       "{'type': 'csw:Record',\n",
       " 'parameter': 'GetRecords.CONSTRAINTLANGUAGE',\n",
       " 'values': ['CQL_TEXT', 'FILTER']}"
      ]
     },
     "execution_count": 6,
     "metadata": {},
     "output_type": "execute_result"
    }
   ],
   "source": [
    "csw.getdomain('GetRecords.CONSTRAINTLANGUAGE')\n",
    "csw.results"
   ]
  },
  {
   "cell_type": "markdown",
   "metadata": {},
   "source": [
    "#### Get the supported elementsets"
   ]
  },
  {
   "cell_type": "code",
   "execution_count": 7,
   "metadata": {},
   "outputs": [
    {
     "data": {
      "text/plain": [
       "{'type': 'csw:Record',\n",
       " 'parameter': 'GetRecords.ElementSetName',\n",
       " 'values': ['brief', 'full', 'summary']}"
      ]
     },
     "execution_count": 7,
     "metadata": {},
     "output_type": "execute_result"
    }
   ],
   "source": [
    "csw.getdomain('GetRecords.ElementSetName')\n",
    "csw.results"
   ]
  },
  {
   "cell_type": "markdown",
   "metadata": {},
   "source": [
    "#### Get supported output formats"
   ]
  },
  {
   "cell_type": "code",
   "execution_count": 8,
   "metadata": {},
   "outputs": [
    {
     "data": {
      "text/plain": [
       "{'type': 'csw:Record',\n",
       " 'parameter': 'GetRecords.outputFormat',\n",
       " 'values': ['application/json', 'application/xml']}"
      ]
     },
     "execution_count": 8,
     "metadata": {},
     "output_type": "execute_result"
    }
   ],
   "source": [
    "csw.getdomain('GetRecords.outputFormat')\n",
    "csw.results"
   ]
  },
  {
   "cell_type": "markdown",
   "metadata": {},
   "source": [
    "#### Get supported output schemas"
   ]
  },
  {
   "cell_type": "code",
   "execution_count": 9,
   "metadata": {},
   "outputs": [
    {
     "data": {
      "text/plain": [
       "{'type': 'csw:Record',\n",
       " 'parameter': 'GetRecords.outputSchema',\n",
       " 'values': ['http://gcmd.gsfc.nasa.gov/Aboutus/xml/dif/',\n",
       "  'http://www.interlis.ch/INTERLIS2.3',\n",
       "  'http://www.isotc211.org/2005/gmd',\n",
       "  'http://www.opengis.net/cat/csw/2.0.2',\n",
       "  'http://www.opengis.net/cat/csw/csdgm',\n",
       "  'http://www.w3.org/2005/Atom',\n",
       "  'urn:oasis:names:tc:ebxml-regrep:xsd:rim:3.0']}"
      ]
     },
     "execution_count": 9,
     "metadata": {},
     "output_type": "execute_result"
    }
   ],
   "source": [
    "csw.getdomain('GetRecords.outputSchema')\n",
    "csw.results"
   ]
  },
  {
   "cell_type": "markdown",
   "metadata": {},
   "source": [
    "#### Search data by using OGC Filter Encoding"
   ]
  },
  {
   "cell_type": "code",
   "execution_count": 10,
   "metadata": {},
   "outputs": [],
   "source": [
    "from owslib.fes import PropertyIsEqualTo, PropertyIsLike"
   ]
  },
  {
   "cell_type": "markdown",
   "metadata": {},
   "source": [
    ">##### Example: search for AnyText fields that equal \"Lophelia\"\n",
    "'AnyText' searches for the term within any of the text fields in the datasets"
   ]
  },
  {
   "cell_type": "code",
   "execution_count": 51,
   "metadata": {},
   "outputs": [
    {
     "name": "stdout",
     "output_type": "stream",
     "text": [
      "{'matches': 3, 'returned': 3, 'nextrecord': 0}\n",
      "Modeled distribution map of discrete Lophelia pertusa colonies in the North East Atlantic in 2021\n",
      "Species distribution models (GAM, Maxent and Random Forest ensemble) predicting the distribution of discrete Lophelia pertusa - Desmophylum pertusum colonies assemblage in the Celtic Sea. This community is considered ecologically coherent according to the cluster analysis conducted by Parry et al. (2015) on image samples. Modelling its distribution complements existing work on their definition and offers a representation of the extent of the areas of the North East Atlantic where they can occur based on the best available knowledge. This work was performed at the University of Plymouth in 2021.\n",
      "----\n",
      "Modeled distribution map of Lophelia Reef and Pheronema aggregations in the North East Atlantic in 2022 - Pheronema carpenteri\n",
      "Species distribution models (Maxent) predicting the distribution of two Vulnerable Marine Ecosystems (VME): the reef-forming Scleractinian coral Desmophyllum pertusum and the aggregations forming Hexactinellid sponge Pheronema carpenteri. Both of these species are VME indicator taxa and form habitat that enhance deep-sea diversity (Ross and Howell, 2013). Maps of the likely distribution of the habitat formed by these two species will enable efficient Marine Spatial planning to facilitate their conservation. This work was performed at the University of Plymouth in 2021. A GIS layer is provided for each species.\n",
      "----\n",
      "Modeled distribution map of Lophelia Reef and Pheronema aggregations in the North East Atlantic in 2022 - Desmophyllum pertusum\n",
      "Species distribution models (Maxent) predicting the distribution of two Vulnerable Marine Ecosystems (VME): the reef-forming Scleractinian coral Desmophyllum pertusum and the aggregations forming Hexactinellid sponge Pheronema carpenteri. Both of these species are VME indicator taxa and form habitat that enhance deep-sea diversity (Ross and Howell, 2013). Maps of the likely distribution of the habitat formed by these two species will enable efficient Marine Spatial planning to facilitate their conservation. This work was performed at the University of Plymouth in 2021. A GIS layer is provided for each species.\n",
      "----\n"
     ]
    }
   ],
   "source": [
    "anytext_query = PropertyIsEqualTo('apiso:AnyText','Lophelia')\n",
    "csw.getrecords2(constraints=[anytext_query], maxrecords=20, esn='full',outputschema='http://www.isotc211.org/2005/gmd')\n",
    "print(csw.results)\n",
    "for rec in csw.records:\n",
    "    print(csw.records[rec].identification[0].title)\n",
    "    print(csw.records[rec].identification[0].abstract)\n",
    "    print(\"----\")"
   ]
  },
  {
   "cell_type": "markdown",
   "metadata": {},
   "source": [
    "> ##### Example: search for title fields that contain \"Classification\"\n",
    "'Title' searches for the term solely within dataset titles"
   ]
  },
  {
   "cell_type": "code",
   "execution_count": 50,
   "metadata": {},
   "outputs": [
    {
     "name": "stdout",
     "output_type": "stream",
     "text": [
      "{'matches': 4, 'returned': 4, 'nextrecord': 0}\n",
      "Hierarchical benthic habitat classification in the Atlantic Ocean in 2016 - Level 1\n",
      "Classification of the Atlantic Ocean seabed into broad-scale benthic habitats employing a hierarchical top-down clustering approach aimed at informing Marine Spatial Planning. This work was performed at the University of Plymouth in 2021 with data provided by a wide group of partners representing the nations surrounding the Atlantic Ocean. It classifies continuous environmental data into discrete classes that can be compared to observed biogeographical patterns at various scales. It has 3 levels of classification. For ease of use, a layer is provided for each level. Level 1 has 4 classes. Level 2 has 15 classes nested within level 1. Layers indices are 2 digits (1[level1 class index]1[level 2 class index]). Level 3 has 157 classes nested within level 2 and class names have 4 digits (1digit[level1 class index]1[level 2 class index]2[level 3 class index]). Note that the classification was performed for the whole world and thus it has more classes than in the presented layer.\n",
      "----\n",
      "Hierarchical benthic habitat classification in the Atlantic Ocean in 2016 - Level 3\n",
      "Classification of the Atlantic Ocean seabed into broad-scale benthic habitats employing a hierarchical top-down clustering approach aimed at informing Marine Spatial Planning. This work was performed at the University of Plymouth in 2021 with data provided by a wide group of partners representing the nations surrounding the Atlantic Ocean. It classifies continuous environmental data into discrete classes that can be compared to observed biogeographical patterns at various scales. It has 3 levels of classification. For ease of use, a layer is provided for each level. Level 1 has 4 classes. Level 2 has 15 classes nested within level 1. Layers indices are 2 digits (1[level1 class index]1[level 2 class index]). Level 3 has 157 classes nested within level 2 and class names have 4 digits (1digit[level1 class index]1[level 2 class index]2[level 3 class index]). Note that the classification was performed for the whole world and thus it has more classes than in the presented layer.\n",
      "----\n",
      "Hierarchical benthic habitat classification in the Atlantic Ocean in 2016 - Level 2\n",
      "Classification of the Atlantic Ocean seabed into broad-scale benthic habitats employing a hierarchical top-down clustering approach aimed at informing Marine Spatial Planning. This work was performed at the University of Plymouth in 2021 with data provided by a wide group of partners representing the nations surrounding the Atlantic Ocean. It classifies continuous environmental data into discrete classes that can be compared to observed biogeographical patterns at various scales. It has 3 levels of classification. For ease of use, a layer is provided for each level. Level 1 has 4 classes. Level 2 has 15 classes nested within level 1. Layers indices are 2 digits (1[level1 class index]1[level 2 class index]). Level 3 has 157 classes nested within level 2 and class names have 4 digits (1digit[level1 class index]1[level 2 class index]2[level 3 class index]). Note that the classification was performed for the whole world and thus it has more classes than in the presented layer.\n",
      "----\n",
      "Non-Hierarchical habitat classification in the Atlantic Ocean in 2016\n",
      "Classification of the seabed in the Atlantic Ocean into broad-scale benthic habitats employing a non-hierarchical top-down clustering approach aimed at informing Marine Spatial Planning. This work was performed at the University of Plymouth in 2021 with data provided by a wide group of partners representing the nations surrounding the Atlantic Ocean. It classifies continuous environmental data into discrete classes that can be compared to observed biogeographical patterns at various scales. It has 3 levels of classification. The numbers in the raster layer correspond to individual classes. Description of these classes is given in the reference.\n",
      "----\n"
     ]
    }
   ],
   "source": [
    "title_query = PropertyIsLike('apiso:Title','%classification%', wildCard=\"%\")\n",
    "csw.getrecords2(constraints=[title_query], maxrecords=20, esn='full',outputschema='http://www.isotc211.org/2005/gmd')\n",
    "print(csw.results)\n",
    "for rec in csw.records:\n",
    "    print(csw.records[rec].identification[0].title)\n",
    "    print(csw.records[rec].identification[0].abstract)\n",
    "    print(\"----\")"
   ]
  },
  {
   "cell_type": "markdown",
   "metadata": {},
   "source": [
    "#### Search with a CQL query\n",
    "CQL allows to combine search term and filters to create more elaborate queries, narrowing down down the results"
   ]
  },
  {
   "cell_type": "markdown",
   "metadata": {},
   "source": [
    "> Example: search for Lophelia and 2021 in AnyText fields"
   ]
  },
  {
   "cell_type": "code",
   "execution_count": 52,
   "metadata": {},
   "outputs": [
    {
     "name": "stdout",
     "output_type": "stream",
     "text": [
      "{'matches': 3, 'returned': 3, 'nextrecord': 0}\n",
      "Modeled distribution map of discrete Lophelia pertusa colonies in the North East Atlantic in 2021\n",
      "Species distribution models (GAM, Maxent and Random Forest ensemble) predicting the distribution of discrete Lophelia pertusa - Desmophylum pertusum colonies assemblage in the Celtic Sea. This community is considered ecologically coherent according to the cluster analysis conducted by Parry et al. (2015) on image samples. Modelling its distribution complements existing work on their definition and offers a representation of the extent of the areas of the North East Atlantic where they can occur based on the best available knowledge. This work was performed at the University of Plymouth in 2021.\n",
      "----\n",
      "Modeled distribution map of Lophelia Reef and Pheronema aggregations in the North East Atlantic in 2022 - Pheronema carpenteri\n",
      "Species distribution models (Maxent) predicting the distribution of two Vulnerable Marine Ecosystems (VME): the reef-forming Scleractinian coral Desmophyllum pertusum and the aggregations forming Hexactinellid sponge Pheronema carpenteri. Both of these species are VME indicator taxa and form habitat that enhance deep-sea diversity (Ross and Howell, 2013). Maps of the likely distribution of the habitat formed by these two species will enable efficient Marine Spatial planning to facilitate their conservation. This work was performed at the University of Plymouth in 2021. A GIS layer is provided for each species.\n",
      "----\n",
      "Modeled distribution map of Lophelia Reef and Pheronema aggregations in the North East Atlantic in 2022 - Desmophyllum pertusum\n",
      "Species distribution models (Maxent) predicting the distribution of two Vulnerable Marine Ecosystems (VME): the reef-forming Scleractinian coral Desmophyllum pertusum and the aggregations forming Hexactinellid sponge Pheronema carpenteri. Both of these species are VME indicator taxa and form habitat that enhance deep-sea diversity (Ross and Howell, 2013). Maps of the likely distribution of the habitat formed by these two species will enable efficient Marine Spatial planning to facilitate their conservation. This work was performed at the University of Plymouth in 2021. A GIS layer is provided for each species.\n",
      "----\n"
     ]
    }
   ],
   "source": [
    "csw.getrecords2(cql='csw:AnyText like \"%Lophelia%\" AND csw:AnyText like \"%2021%\"',maxrecords=20,esn='full',outputschema='http://www.isotc211.org/2005/gmd')\n",
    "print(csw.results)\n",
    "for rec in csw.records:\n",
    "    print(csw.records[rec].identification[0].title)\n",
    "    print(csw.records[rec].identification[0].abstract)\n",
    "    print(\"----\")"
   ]
  },
  {
   "cell_type": "markdown",
   "metadata": {},
   "source": [
    "#### Get record metadata"
   ]
  },
  {
   "cell_type": "code",
   "execution_count": 57,
   "metadata": {},
   "outputs": [
    {
     "name": "stdout",
     "output_type": "stream",
     "text": [
      "{'abstract': 'Species distribution models (GAM, Maxent and Random Forest '\n",
      "             'ensemble) predicting the distribution of discrete Lophelia '\n",
      "             'pertusa - Desmophylum pertusum colonies assemblage in the Celtic '\n",
      "             'Sea. This community is considered ecologically coherent '\n",
      "             'according to the cluster analysis conducted by Parry et al. '\n",
      "             '(2015) on image samples. Modelling its distribution complements '\n",
      "             'existing work on their definition and offers a representation of '\n",
      "             'the extent of the areas of the North East Atlantic where they '\n",
      "             'can occur based on the best available knowledge. This work was '\n",
      "             'performed at the University of Plymouth in 2021.',\n",
      " 'abstract_url': None,\n",
      " 'accessconstraints': [],\n",
      " 'aggregationinfo': None,\n",
      " 'alternatetitle': None,\n",
      " 'bbox': <owslib.iso.EX_GeographicBoundingBox object at 0x0000021FFADE7CD0>,\n",
      " 'classification': [],\n",
      " 'contact': [<owslib.iso.CI_ResponsibleParty object at 0x0000021FFADE8250>],\n",
      " 'contributor': [],\n",
      " 'creator': [<owslib.iso.CI_ResponsibleParty object at 0x0000021FFADEB0D0>],\n",
      " 'date': [<owslib.iso.CI_Date object at 0x0000021FFADE8090>],\n",
      " 'datetype': [],\n",
      " 'denominators': [],\n",
      " 'distance': [],\n",
      " 'edition': None,\n",
      " 'extent': <owslib.iso.EX_Extent object at 0x0000021FFADE6390>,\n",
      " 'graphicoverview': ['https://geonode.missionatlantic.eu/uploaded/thumbs/layer-a14d8add-73ea-4056-956f-8a59c2baab61-thumb-2ea0aa5b-aac6-4145-99a7-19eb892f6bf4.png?v=82cc515b'],\n",
      " 'identtype': 'dataset',\n",
      " 'keywords': [<owslib.iso.MD_Keywords object at 0x0000021FFADE6510>],\n",
      " 'otherconstraints': ['Not Specified: The original author did not specify a '\n",
      "                      'license.',\n",
      "                      'Attribution (CC BY)'],\n",
      " 'publisher': [],\n",
      " 'purpose': None,\n",
      " 'resourcelanguage': ['eng'],\n",
      " 'resourcelanguagecode': [],\n",
      " 'securityconstraints': [],\n",
      " 'spatialrepresentationtype': [],\n",
      " 'status': 'completed',\n",
      " 'supplementalinformation': 'No information provided',\n",
      " 'temporalextent_end': '2021-01-01T00:00:00+00:00',\n",
      " 'temporalextent_start': '2021-01-01T00:00:00+00:00',\n",
      " 'title': 'Modeled distribution map of discrete Lophelia pertusa colonies in '\n",
      "          'the North East Atlantic in 2021',\n",
      " 'topiccategory': ['biota'],\n",
      " 'uom': [],\n",
      " 'uricode': [],\n",
      " 'uricodespace': [],\n",
      " 'useconstraints': ['license', ''],\n",
      " 'uselimitation': [],\n",
      " 'uselimitation_url': []}\n"
     ]
    }
   ],
   "source": [
    "from pprint import pprint\n",
    "records = [csw.records[rec] for rec in csw.records]\n",
    "record = records[0]\n",
    "pprint(vars(record.identification[0]))"
   ]
  },
  {
   "cell_type": "markdown",
   "metadata": {},
   "source": [
    "#### Get record data"
   ]
  },
  {
   "cell_type": "code",
   "execution_count": 58,
   "metadata": {},
   "outputs": [
    {
     "name": "stdout",
     "output_type": "stream",
     "text": [
      "Description:  Online link to the 'Modeled distribution map of discrete Lophelia pertusa colonies in the North East Atlantic in 2021' description on GeoNode\n",
      "Protocol:  WWW:LINK-1.0-http--link\n",
      "URL:  https://geonode.missionatlantic.eu/layers/DisLop_Ens_Cont_Preds_Thresh_200m_GHO_Masked_reprojectedGeoNode:geonode:DisLop_Ens_Cont_Preds_Thresh_200m_GHO_Masked_reprojectedGeoNode\n",
      "---\n",
      "Description:  Modeled distribution map of discrete Lophelia pertusa colonies in the North East Atlantic in 2021 (Thumbnail Format)\n",
      "Protocol:  WWW:DOWNLOAD-1.0-http--download\n",
      "URL:  https://geonode.missionatlantic.eu/uploaded/thumbs/layer-a14d8add-73ea-4056-956f-8a59c2baab61-thumb-2ea0aa5b-aac6-4145-99a7-19eb892f6bf4.png?v=4e6ff343\n",
      "---\n",
      "Description:  Modeled distribution map of discrete Lophelia pertusa colonies in the North East Atlantic in 2021 (Thumbnail Format)\n",
      "Protocol:  WWW:DOWNLOAD-1.0-http--download\n",
      "URL:  https://geonode.missionatlantic.eu/uploaded/thumbs/layer-a14d8add-73ea-4056-956f-8a59c2baab61-thumb-2ea0aa5b-aac6-4145-99a7-19eb892f6bf4.png\n",
      "---\n",
      "Description:  Modeled distribution map of discrete Lophelia pertusa colonies in the North East Atlantic in 2021 (Legend Format)\n",
      "Protocol:  WWW:DOWNLOAD-1.0-http--download\n",
      "URL:  https://geonode.missionatlantic.eu/geoserver/ows?service=WMS&request=GetLegendGraphic&format=image/png&WIDTH=20&HEIGHT=20&LAYER=geonode:DisLop_Ens_Cont_Preds_Thresh_200m_GHO_Masked_reprojectedGeoNode&STYLE=DisLop_Ens_Cont_Preds_Thresh_200m_GHO_Masked_reprojectedGeoNode&version=1.3.0&sld_version=1.1.0&legend_options=fontAntiAliasing:true;fontSize:12;forceLabels:on\n",
      "---\n",
      "Description:  Modeled distribution map of discrete Lophelia pertusa colonies in the North East Atlantic in 2021 (Original Layer Format)\n",
      "Protocol:  WWW:DOWNLOAD-1.0-http--download\n",
      "URL:  https://geonode.missionatlantic.eu/download/32\n",
      "---\n",
      "Description:  Modeled distribution map of discrete Lophelia pertusa colonies in the North East Atlantic in 2021 (JPEG Format)\n",
      "Protocol:  WWW:DOWNLOAD-1.0-http--download\n",
      "URL:  https://geonode.missionatlantic.eu/geoserver/ows?service=WMS&request=GetMap&layers=geonode%3ADisLop_Ens_Cont_Preds_Thresh_200m_GHO_Masked_reprojectedGeoNode&format=image%2Fjpeg&height=550&width=550&srs=EPSG%3A4326&bbox=-34.6704939%2C45.7171745%2C14.1992769%2C65.1152401\n",
      "---\n",
      "Description:  Modeled distribution map of discrete Lophelia pertusa colonies in the North East Atlantic in 2021 (PDF Format)\n",
      "Protocol:  WWW:DOWNLOAD-1.0-http--download\n",
      "URL:  https://geonode.missionatlantic.eu/geoserver/ows?service=WMS&request=GetMap&layers=geonode%3ADisLop_Ens_Cont_Preds_Thresh_200m_GHO_Masked_reprojectedGeoNode&format=application%2Fpdf&height=550&width=550&srs=EPSG%3A4326&bbox=-34.6704939%2C45.7171745%2C14.1992769%2C65.1152401\n",
      "---\n",
      "Description:  Modeled distribution map of discrete Lophelia pertusa colonies in the North East Atlantic in 2021 (PNG Format)\n",
      "Protocol:  WWW:DOWNLOAD-1.0-http--download\n",
      "URL:  https://geonode.missionatlantic.eu/geoserver/ows?service=WMS&request=GetMap&layers=geonode%3ADisLop_Ens_Cont_Preds_Thresh_200m_GHO_Masked_reprojectedGeoNode&format=image%2Fpng&height=550&width=550&srs=EPSG%3A4326&bbox=-34.6704939%2C45.7171745%2C14.1992769%2C65.1152401\n",
      "---\n",
      "Description:  Modeled distribution map of discrete Lophelia pertusa colonies in the North East Atlantic in 2021 (GeoTIFF Format)\n",
      "Protocol:  WWW:DOWNLOAD-1.0-http--download\n",
      "URL:  https://geonode.missionatlantic.eu/geoserver/ows?service=WCS&request=GetCoverage&coverageid=geonode__DisLop_Ens_Cont_Preds_Thresh_200m_GHO_Masked_reprojectedGeoNode&format=image%2Ftiff&version=2.0.1&compression=DEFLATE&tileWidth=512&tileHeight=512\n",
      "---\n",
      "Description:  geonode Service - Provides Layer: Modeled distribution map of discrete Lophelia pertusa colonies in the North East Atlantic in 2021\n",
      "Protocol:  OGC:WMS\n",
      "URL:  https://geonode.missionatlantic.eu/geoserver/ows\n",
      "---\n",
      "Description:  geonode Service - Provides Layer: Modeled distribution map of discrete Lophelia pertusa colonies in the North East Atlantic in 2021\n",
      "Protocol:  OGC:WCS\n",
      "URL:  https://geonode.missionatlantic.eu/geoserver/ows\n",
      "---\n"
     ]
    }
   ],
   "source": [
    "for resource in record.distribution.online:\n",
    "    print('Description: ', resource.description)\n",
    "    print('Protocol: ', resource.protocol)\n",
    "    print('URL: ', resource.url)\n",
    "    print(\"---\")"
   ]
  },
  {
   "cell_type": "markdown",
   "metadata": {},
   "source": [
    "### [>> Next: Visualize data using OGC Web Mapping Service (WMS)](./2_visualize_data_with_WMS.ipynb) "
   ]
  },
  {
   "cell_type": "markdown",
   "metadata": {},
   "source": [
    "<hr>"
   ]
  },
  {
   "cell_type": "markdown",
   "metadata": {},
   "source": [
    "<a rel=\"license\" href=\"http://creativecommons.org/licenses/by/4.0/\"><img style=\"float: right\" alt=\"Creative Commons Lizenzvertrag\" style=\"border-width:0\" src=\"https://i.creativecommons.org/l/by/4.0/88x31.png\" /></a>"
   ]
  }
 ],
 "metadata": {
  "kernelspec": {
   "display_name": "Python 3.8.3 64-bit",
   "language": "python",
   "name": "python3"
  },
  "language_info": {
   "codemirror_mode": {
    "name": "ipython",
    "version": 3
   },
   "file_extension": ".py",
   "mimetype": "text/x-python",
   "name": "python",
   "nbconvert_exporter": "python",
   "pygments_lexer": "ipython3",
   "version": "3.11.5"
  },
  "vscode": {
   "interpreter": {
    "hash": "9650cb4e16cdd4a8e8e2d128bf38d875813998db22a3c986335f89e0cb4d7bb2"
   }
  }
 },
 "nbformat": 4,
 "nbformat_minor": 2
}
